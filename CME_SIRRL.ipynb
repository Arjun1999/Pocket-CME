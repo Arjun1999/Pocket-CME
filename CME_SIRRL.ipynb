{
  "nbformat": 4,
  "nbformat_minor": 0,
  "metadata": {
    "colab": {
      "name": "CME_SIRRL.ipynb",
      "provenance": [],
      "collapsed_sections": []
    },
    "kernelspec": {
      "display_name": "Python 3",
      "name": "python3"
    },
    "language_info": {
      "name": "python"
    }
  },
  "cells": [
    {
      "cell_type": "code",
      "metadata": {
        "colab": {
          "base_uri": "https://localhost:8080/"
        },
        "id": "S5KEakiGgZIJ",
        "outputId": "ce48f467-156e-469d-deec-0c6b145e4629"
      },
      "source": [
        "!pip install torch torchvision pyro-ppl\n",
        "\n",
        "#import os\n",
        "import numpy as np\n",
        "import pandas as pd\n",
        "import matplotlib.pyplot as plt\n",
        "\n",
        "import torch\n",
        "import torch.nn as nn\n",
        "\n",
        "import pyro\n",
        "import pyro.distributions as dist\n",
        "from pyro.distributions import Normal\n",
        "from pyro.infer import SVI, Trace_ELBO\n",
        "from pyro.optim import Adam\n",
        "\n",
        "print(\"Currently using Pyro version: \" + pyro.__version__)"
      ],
      "execution_count": null,
      "outputs": [
        {
          "output_type": "stream",
          "name": "stdout",
          "text": [
            "Requirement already satisfied: torch in /usr/local/lib/python3.7/dist-packages (1.9.0+cu111)\n",
            "Requirement already satisfied: torchvision in /usr/local/lib/python3.7/dist-packages (0.10.0+cu111)\n",
            "Requirement already satisfied: pyro-ppl in /usr/local/lib/python3.7/dist-packages (1.7.0)\n",
            "Requirement already satisfied: typing-extensions in /usr/local/lib/python3.7/dist-packages (from torch) (3.7.4.3)\n",
            "Requirement already satisfied: numpy in /usr/local/lib/python3.7/dist-packages (from torchvision) (1.19.5)\n",
            "Requirement already satisfied: pillow>=5.3.0 in /usr/local/lib/python3.7/dist-packages (from torchvision) (7.1.2)\n",
            "Requirement already satisfied: pyro-api>=0.1.1 in /usr/local/lib/python3.7/dist-packages (from pyro-ppl) (0.1.2)\n",
            "Requirement already satisfied: tqdm>=4.36 in /usr/local/lib/python3.7/dist-packages (from pyro-ppl) (4.62.3)\n",
            "Requirement already satisfied: opt-einsum>=2.3.2 in /usr/local/lib/python3.7/dist-packages (from pyro-ppl) (3.3.0)\n",
            "Currently using Pyro version: 1.7.0\n"
          ]
        }
      ]
    },
    {
      "cell_type": "code",
      "metadata": {
        "id": "UYmXi30Rdyon"
      },
      "source": [
        "# ----------------------------------------------------- One Emotion Model [Reference]--------------------------------------------------\n",
        "# -------------------------------------------------------------------------------------------------------------------------------------\n",
        "# -------------------------------------------------------------------------------------------------------------------------------------\n",
        "# -------------------------------------------------------------------------------------------------------------------------------------\n",
        "# -------------------------------------------------------------------------------------------------------------------------------------"
      ],
      "execution_count": null,
      "outputs": []
    },
    {
      "cell_type": "code",
      "metadata": {
        "colab": {
          "base_uri": "https://localhost:8080/"
        },
        "id": "yVPK9qMSgbBM",
        "outputId": "51104a1e-af1f-4362-c1d3-b3b02ee64590"
      },
      "source": [
        "# data location\n",
        "#dataset_path = os.path.join(os.path.abspath('..'), \"CognitionData\", \"data_wheelOnly.csv\")\n",
        "dataset_path = \"https://desmond-ong.github.io/pplAffComp/CognitionData/data_wheelOnly.csv\"\n",
        "\n",
        "OUTCOME_VAR_NAMES = [\"payoff1\", \"payoff2\", \"payoff3\", \"prob1\", \"prob2\", \"prob3\", \"win\", \"winProb\", \"angleProp\"]\n",
        "EMOTION_VAR_NAMES = [\"happy\", \"sad\", \"anger\", \"disgust\", \"fear\", \"content\", \"disapp\"]\n",
        "OUTCOME_VAR_DIM = len(OUTCOME_VAR_NAMES)\n",
        "EMOTION_VAR_DIM = len(EMOTION_VAR_NAMES)\n",
        "\n",
        "def load_outcome_emotion_dataset(csv_file, normalize_values=True, preview_datafile=False):\n",
        "    data_readin = pd.read_csv(csv_file)\n",
        "    outcome_data = data_readin.loc[:,OUTCOME_VAR_NAMES]\n",
        "    if normalize_values:\n",
        "        ####\n",
        "        ## payoff1, payoff2, payoff3 and win are between 0 and 100\n",
        "        ## need to normalize to [0,1] to match the rest of the variables,\n",
        "        ## by dividing payoff1, payoff2, payoff3 and win by 100\n",
        "        ####\n",
        "        outcome_data.loc[:,\"payoff1\"] = outcome_data.loc[:,\"payoff1\"]/100\n",
        "        outcome_data.loc[:,\"payoff2\"] = outcome_data.loc[:,\"payoff2\"]/100\n",
        "        outcome_data.loc[:,\"payoff3\"] = outcome_data.loc[:,\"payoff3\"]/100\n",
        "        outcome_data.loc[:,\"win\"]     = outcome_data.loc[:,\"win\"]/100\n",
        "    outcome_data_tensor = torch.tensor(outcome_data.values).type(torch.Tensor)\n",
        "    \n",
        "    emotion_data = data_readin.loc[:,EMOTION_VAR_NAMES]\n",
        "    if normalize_values:\n",
        "        ## note that emotions are transformed from a 9 point Likert to [0,1] via emo <- (emo-1)/8\n",
        "        emotion_data   = (emotion_data-1)/8\n",
        "    emotion_data_tensor = torch.tensor(emotion_data.values).type(torch.Tensor)\n",
        "    \n",
        "    if preview_datafile:\n",
        "        print(\"Preview of first 3 rows:\")\n",
        "        print(outcome_data.loc[0:2,:])\n",
        "        print(emotion_data.loc[0:2,:])\n",
        "    \n",
        "    data = torch.cat((outcome_data_tensor, emotion_data_tensor), 1)\n",
        "    \n",
        "    preprocessed_data = pd.concat([outcome_data, emotion_data], axis=1)\n",
        "\n",
        "    shuffled_data = preprocessed_data.sample(frac=1)\n",
        "    divided_parts = np.array_split(shuffled_data, 4)  \n",
        "\n",
        "    train_set = pd.concat([divided_parts[0], divided_parts[1]], axis = 0)\n",
        "    train_set = pd.concat([train_set, divided_parts[2]], axis = 0)\n",
        "    test_set  = divided_parts[3] \n",
        "    \n",
        "    train_set_tensor = torch.tensor(train_set.values).type(torch.Tensor)\n",
        "    test_set_tensor  = torch.tensor(test_set.values).type(torch.Tensor)\n",
        "    \n",
        "    return train_set_tensor, test_set_tensor\n",
        "    # return data\n",
        "\n",
        "\n",
        "# reads in datafile.\n",
        "print(\"Reading in dataset...\")\n",
        "train_set, test_set = load_outcome_emotion_dataset(csv_file=dataset_path, preview_datafile=True)\n",
        "N_samples = train_set.shape[0]\n",
        "\n",
        "print(\"Shape of train set: \", train_set.shape)\n",
        "print(\"Shape of test set: \", test_set.shape)"
      ],
      "execution_count": null,
      "outputs": [
        {
          "output_type": "stream",
          "name": "stdout",
          "text": [
            "Reading in dataset...\n",
            "Preview of first 3 rows:\n",
            "   payoff1  payoff2  payoff3  prob1  prob2  prob3  win  winProb  angleProp\n",
            "0     0.50     0.75      0.9   0.30   0.52   0.18  0.5     0.30      0.921\n",
            "1     0.15     0.70      0.8   0.45   0.29   0.26  0.8     0.26      0.873\n",
            "2     0.50     0.75      0.9   0.30   0.52   0.18  0.5     0.30      0.467\n",
            "   happy    sad  anger  disgust  fear  content  disapp\n",
            "0  0.625  0.000  0.000     0.25   0.0    0.625   0.375\n",
            "1  0.875  0.000  0.000     0.00   0.0    0.000   0.000\n",
            "2  0.625  0.125  0.125     0.00   0.0    0.250   0.500\n",
            "Shape of train set:  torch.Size([1156, 16])\n",
            "Shape of test set:  torch.Size([385, 16])\n"
          ]
        }
      ]
    },
    {
      "cell_type": "code",
      "metadata": {
        "id": "eAU4u44LgcyB"
      },
      "source": [
        "def compute_appraisal(outcome_data):\n",
        "    # We have simple hard-coded appraisals, for illustration\n",
        "    # This is following Ong, Zaki, & Goodman (2015)\n",
        "    # the outcome data columns are, in order:\n",
        "    # [\"payoff1\", \"payoff2\", \"payoff3\", \"prob1\", \"prob2\", \"prob3\", \"win\", \"winProb\", \"angleProp\"]\n",
        "    # the 3 appraisal variables are: \n",
        "    #     amount won (\"win\"),\n",
        "    #     Prediction Error PE = win - EV, where EV = prob1*payoff1 + prob2*payoff2 + prob3*payoff3\n",
        "    #     absolute value of PE\n",
        "    \n",
        "    # if outcome_data only has 1 observation, reshape so vectorization works\n",
        "    if(len(outcome_data.shape)==1):\n",
        "        outcome_data = outcome_data.view(1,9)\n",
        "        print(outcome_data.shape)\n",
        "    \n",
        "    # initializing appraisalVals\n",
        "    appraisalVals = torch.zeros(size=(outcome_data.shape[0],3))\n",
        "    appraisalVals[:,0] = outcome_data[:,6] # amount won\n",
        "    \n",
        "    # Expected value\n",
        "    EV = outcome_data[:,0] * outcome_data[:,3] + \\\n",
        "         outcome_data[:,1] * outcome_data[:,4] + \\\n",
        "         outcome_data[:,2] * outcome_data[:,5]\n",
        "    \n",
        "    # prediction error and absolute PE\n",
        "    appraisalVals[:,1] = appraisalVals[:,0] - EV\n",
        "    appraisalVals[:,2] = abs(appraisalVals[:,1])\n",
        "    return(appraisalVals)\n"
      ],
      "execution_count": null,
      "outputs": []
    },
    {
      "cell_type": "code",
      "metadata": {
        "id": "sRxKWHwwgctq"
      },
      "source": [
        "# emotion data splice dimension\n",
        "\n",
        "# Happy           ->  OUTCOME_VAR_DIM\n",
        "# Sad             ->  OUTCOME_VAR_DIM + 1\n",
        "# Anger           ->  OUTCOME_VAR_DIM + 2\n",
        "# Disgust         ->  OUTCOME_VAR_DIM + 3\n",
        "# Fear            ->  OUTCOME_VAR_DIM + 4\n",
        "# Content         ->  OUTCOME_VAR_DIM + 5\n",
        "# Disappointment  ->  OUTCOME_VAR_DIM + 6\n",
        "\n",
        "def fit_regression_model(data):\n",
        "    # define the parameters that control the gaussian prior over the regression coeffs.\n",
        "    # mean = 0, scale = 1\n",
        "    coeff_mean_prior = torch.tensor(0.0)\n",
        "    coeff_scale_prior = torch.tensor(1.0)\n",
        "    \n",
        "    # sample b_0 (intercept) and b_1 to b_3 (regression coeffs)\n",
        "    b_0 = pyro.sample(\"b_0\", Normal(coeff_mean_prior, coeff_scale_prior))\n",
        "    b_1 = pyro.sample(\"b_1\", Normal(coeff_mean_prior, coeff_scale_prior))\n",
        "    b_2 = pyro.sample(\"b_2\", Normal(coeff_mean_prior, coeff_scale_prior))\n",
        "    b_3 = pyro.sample(\"b_3\", Normal(coeff_mean_prior, coeff_scale_prior))\n",
        "    \n",
        "    # loop over observed data\n",
        "    with pyro.plate(\"map\"):\n",
        "        outcome_data = data[:, :(OUTCOME_VAR_DIM)]\n",
        "        # Here, for simplification, we are only taking one emotion variable (happy)\n",
        "        # instead of all 8 emotions\n",
        "        emotion_data = data[:, OUTCOME_VAR_DIM + 6]  \n",
        "        appraisal_vars = compute_appraisal(outcome_data)\n",
        "        \n",
        "        # run the regression forward\n",
        "        prediction = b_0 + b_1 * appraisal_vars[:,0] + b_2 * appraisal_vars[:,1] + b_3 * appraisal_vars[:,2]\n",
        "        # condition on the observed data\n",
        "        pyro.sample(\"obs\", Normal(prediction, 1), obs = emotion_data)"
      ],
      "execution_count": null,
      "outputs": []
    },
    {
      "cell_type": "code",
      "metadata": {
        "id": "mLdiJzb9gcry"
      },
      "source": [
        "def fit_regression_guide(data):\n",
        "    mean_b0_param  = pyro.param(\"guide_mean_b0\",  torch.tensor(0.0))\n",
        "    scale_b0_param = pyro.param(\"guide_scale_b0\", torch.tensor(1.0))\n",
        "    mean_b1_param  = pyro.param(\"guide_mean_b1\",  torch.tensor(0.0))\n",
        "    scale_b1_param = pyro.param(\"guide_scale_b1\", torch.tensor(1.0))\n",
        "    mean_b2_param  = pyro.param(\"guide_mean_b2\",  torch.tensor(0.0))\n",
        "    scale_b2_param = pyro.param(\"guide_scale_b2\", torch.tensor(1.0))\n",
        "    mean_b3_param  = pyro.param(\"guide_mean_b3\",  torch.tensor(0.0))\n",
        "    scale_b3_param = pyro.param(\"guide_scale_b3\", torch.tensor(1.0))\n",
        "    # sample coefficients from Normal(mean, scale)\n",
        "    pyro.sample(\"b_0\", Normal(mean_b0_param, scale_b0_param))\n",
        "    pyro.sample(\"b_1\", Normal(mean_b1_param, scale_b1_param))\n",
        "    pyro.sample(\"b_2\", Normal(mean_b2_param, scale_b2_param))\n",
        "    pyro.sample(\"b_3\", Normal(mean_b3_param, scale_b3_param))\n",
        "    "
      ],
      "execution_count": null,
      "outputs": []
    },
    {
      "cell_type": "code",
      "metadata": {
        "id": "Qx_hRkPWOuXM"
      },
      "source": [
        "    def __getitem__(self, idx):\n",
        "        try:\n",
        "          idx = idx.item()\n",
        "        except:\n",
        "          idx = idx\n",
        "        return self.data.iloc[idx]"
      ],
      "execution_count": null,
      "outputs": []
    },
    {
      "cell_type": "code",
      "metadata": {
        "colab": {
          "base_uri": "https://localhost:8080/",
          "height": 486
        },
        "id": "SdzdZiPngcpd",
        "outputId": "551e80f5-309b-4c20-a503-ddf95a5639e3"
      },
      "source": [
        "# this line clears pyro's parameter store.\n",
        "pyro.clear_param_store()\n",
        "\n",
        "num_iterations = 1000\n",
        "\n",
        "# setup the optimizer with some learning rate\n",
        "optimizer = Adam({\"lr\": 0.005})\n",
        "\n",
        "# setup the inference algorithm\n",
        "svi = SVI(fit_regression_model, fit_regression_guide, optimizer, loss=Trace_ELBO())\n",
        "\n",
        "# Splitting into training and testing datasets\n",
        "# train_size = int(0.75 * len(outcome_emotion_dataset))\n",
        "# test_size = len(outcome_emotion_dataset) - train_size\n",
        "# train_dataset, test_dataset = torch.utils.data.random_split(outcome_emotion_dataset, [train_size, test_size])\n",
        "\n",
        "# print(train_dataset.dataset)\n",
        "# print(outcome_emotion_dataset)\n",
        "\n",
        "# do gradient steps\n",
        "losses = []\n",
        "for thisIteration in range(num_iterations):\n",
        "    # calculate the loss and take a gradient step\n",
        "    thisLoss = svi.step(train_set)\n",
        "    losses.append(thisLoss)\n",
        "    if thisIteration % 100 == 0:\n",
        "        print(\"[iteration %04d] loss: %.4f\" % (thisIteration + 1, thisLoss / float(N_samples)))\n",
        "\n",
        "plt.plot(losses)\n",
        "plt.title(\"ELBO\")\n",
        "plt.xlabel(\"step\")\n",
        "plt.ylabel(\"loss\")"
      ],
      "execution_count": null,
      "outputs": [
        {
          "output_type": "stream",
          "name": "stdout",
          "text": [
            "[iteration 0001] loss: 3.4071\n",
            "[iteration 0101] loss: 1.3019\n",
            "[iteration 0201] loss: 1.0224\n",
            "[iteration 0301] loss: 0.9790\n",
            "[iteration 0401] loss: 1.2312\n",
            "[iteration 0501] loss: 0.9615\n",
            "[iteration 0601] loss: 0.9731\n",
            "[iteration 0701] loss: 0.9526\n",
            "[iteration 0801] loss: 0.9557\n",
            "[iteration 0901] loss: 0.9637\n"
          ]
        },
        {
          "output_type": "execute_result",
          "data": {
            "text/plain": [
              "Text(0, 0.5, 'loss')"
            ]
          },
          "metadata": {},
          "execution_count": 207
        },
        {
          "output_type": "display_data",
          "data": {
            "image/png": "[encoded data removed]",
            "text/plain": [
              "<Figure size 432x288 with 1 Axes>"
            ]
          },
          "metadata": {
            "needs_background": "light"
          }
        }
      ]
    },
    {
      "cell_type": "code",
      "metadata": {
        "colab": {
          "base_uri": "https://localhost:8080/"
        },
        "id": "NYXNIcOzgcnB",
        "outputId": "301ecd75-d41f-4d8a-b172-ce4388a1792a"
      },
      "source": [
        "# output the learned variational parameters\n",
        "print(\"b0 ~ Normal(%.4f, %.4f)\" % (pyro.param(\"guide_mean_b0\").item(), pyro.param(\"guide_scale_b0\").item()))\n",
        "print(\"b1 ~ Normal(%.4f, %.4f)\" % (pyro.param(\"guide_mean_b1\").item(), pyro.param(\"guide_scale_b1\").item()))\n",
        "print(\"b2 ~ Normal(%.4f, %.4f)\" % (pyro.param(\"guide_mean_b2\").item(), pyro.param(\"guide_scale_b2\").item()))\n",
        "print(\"b3 ~ Normal(%.4f, %.4f)\" % (pyro.param(\"guide_mean_b3\").item(), pyro.param(\"guide_scale_b3\").item()))"
      ],
      "execution_count": null,
      "outputs": [
        {
          "output_type": "stream",
          "name": "stdout",
          "text": [
            "b0 ~ Normal(0.2719, 0.0293)\n",
            "b1 ~ Normal(-0.0508, 0.0547)\n",
            "b2 ~ Normal(-1.1101, 0.1358)\n",
            "b3 ~ Normal(0.4091, 0.1761)\n"
          ]
        }
      ]
    },
    {
      "cell_type": "code",
      "metadata": {
        "id": "AOzSqWatgcZq"
      },
      "source": [
        "class appraisalRegressionModule(nn.Module):\n",
        "    def __init__(self, num_features):\n",
        "        super(appraisalRegressionModule, self).__init__()\n",
        "        self.linear = nn.Linear(num_features, 1)\n",
        "\n",
        "    def forward(self, outcome):\n",
        "        return self.linear(outcome)\n",
        "\n",
        "regression_model = appraisalRegressionModule(OUTCOME_VAR_DIM)"
      ],
      "execution_count": null,
      "outputs": []
    },
    {
      "cell_type": "code",
      "metadata": {
        "id": "fl1HpwW5gyn-"
      },
      "source": [
        "# emotion_data splice dimension\n",
        "\n",
        "# Happy           ->  OUTCOME_VAR_DIM\n",
        "# Sad             ->  OUTCOME_VAR_DIM + 1\n",
        "# Anger           ->  OUTCOME_VAR_DIM + 2\n",
        "# Disgust         ->  OUTCOME_VAR_DIM + 3\n",
        "# Fear            ->  OUTCOME_VAR_DIM + 4\n",
        "# Content         ->  OUTCOME_VAR_DIM + 5\n",
        "# Disappointment  ->  OUTCOME_VAR_DIM + 6\n",
        "\n",
        "def bayesianRegressionModel(data):\n",
        "    # Create unit normal priors over the parameters\n",
        "    weights_loc   = torch.zeros(size=(torch.Size((1, OUTCOME_VAR_DIM))))\n",
        "    weights_scale = torch.ones(size=(torch.Size((1, OUTCOME_VAR_DIM))))\n",
        "    weights_prior = Normal(weights_loc, weights_scale).independent(1)\n",
        "    \n",
        "    # location and scale prior for the bias\n",
        "    bias_loc   = torch.zeros(size=(torch.Size((1, ))))\n",
        "    bias_scale = torch.ones(size=(torch.Size((1, ))))\n",
        "    bias_prior = Normal(bias_loc, bias_scale).independent(1)\n",
        "    \n",
        "    priors = {'linear.weight': weights_prior, 'linear.bias': bias_prior}\n",
        "    # lift module parameters to random variables sampled from the priors\n",
        "    lifted_module = pyro.random_module(\"module\", regression_model, priors)\n",
        "    # sample a model (which also samples from weights_prior and bias_prior)\n",
        "    sampled_regression_model = lifted_module()\n",
        "    \n",
        "    with pyro.plate(\"map\"):\n",
        "        outcome_data = data[:, :(OUTCOME_VAR_DIM)]\n",
        "        # Here, for simplification, we are only taking one emotion variable (happy)\n",
        "        # instead of all 8 emotions\n",
        "        # OUTCOME_VAR_DIM = 8 = Happy (Change the number accordingly for subsequent emotions)\n",
        "        emotion_data = data[:, OUTCOME_VAR_DIM + 6]  \n",
        "        \n",
        "        # run the regressor forward conditioned on data\n",
        "        prediction = sampled_regression_model(outcome_data).squeeze(-1)\n",
        "        # condition on the observed data\n",
        "        pyro.sample(\"obs\", Normal(prediction, 1), obs = emotion_data)"
      ],
      "execution_count": null,
      "outputs": []
    },
    {
      "cell_type": "code",
      "metadata": {
        "id": "HraerY9egyjo"
      },
      "source": [
        "def bayesianRegressionGuide(data):\n",
        "    # define our variational parameters\n",
        "    weights_loc   = torch.randn(1, OUTCOME_VAR_DIM)\n",
        "    # Note that the scale has to be non-negative. Thus, we use exp() to get a non-negative number.\n",
        "    # we also use a narrower scale (exp(-1) ~ 0.35 instead of exp(0) = 1)\n",
        "    weights_scale = torch.exp(-1.0 * torch.ones(1, OUTCOME_VAR_DIM) + 0.05 * torch.randn(1, OUTCOME_VAR_DIM))\n",
        "    bias_loc      = torch.randn(1)\n",
        "    bias_scale    = torch.exp(-1.0 * torch.ones(1) + 0.05 * torch.randn(1))\n",
        "\n",
        "    # using pyro.param() to register the variational parameters\n",
        "    weight_loc_param   = pyro.param(\"guide_loc_weight\", weights_loc)\n",
        "    weight_scale_param = pyro.param(\"guide_scale_weight\", weights_scale)\n",
        "    bias_loc_param     = pyro.param(\"guide_loc_bias\", bias_loc)\n",
        "    bias_scale_param   = pyro.param(\"guide_scale_bias\", bias_scale)\n",
        "    # guide distributions for w and b\n",
        "    weight_dist = Normal(weight_loc_param, weight_scale_param).independent(1)\n",
        "    bias_dist   = Normal(bias_loc_param, bias_scale_param).independent(1)\n",
        "    dists = {'linear.weight': weight_dist, 'linear.bias': bias_dist}\n",
        "    # lift the module and sample from that distribution\n",
        "    lifted_module = pyro.random_module(\"module\", regression_model, dists)\n",
        "    return lifted_module()"
      ],
      "execution_count": null,
      "outputs": []
    },
    {
      "cell_type": "code",
      "metadata": {
        "colab": {
          "base_uri": "https://localhost:8080/",
          "height": 541
        },
        "id": "axafP06UgyhT",
        "outputId": "86c2d304-5177-4d22-b716-36ee2b0e3a48"
      },
      "source": [
        "pyro.clear_param_store()\n",
        "\n",
        "num_iterations = 1000\n",
        "\n",
        "# setup the optimizer with some learning rate\n",
        "optimizer = Adam({\"lr\": 0.005})\n",
        "\n",
        "# setup the inference algorithm\n",
        "bayesianRegressionSVI = SVI(bayesianRegressionModel, bayesianRegressionGuide, optimizer, loss=Trace_ELBO())\n",
        "\n",
        "# Splitting into training and testing datasets\n",
        "# train_size = int(0.75 * len(outcome_emotion_dataset))\n",
        "# test_size = len(outcome_emotion_dataset) - train_size\n",
        "# train_dataset, test_dataset = torch.utils.data.random_split(outcome_emotion_dataset, [train_size, test_size])\n",
        "\n",
        "# do gradient steps\n",
        "losses = []\n",
        "for thisIteration in range(num_iterations):\n",
        "    # calculate the loss and take a gradient step\n",
        "    thisLoss = bayesianRegressionSVI.step(train_set)\n",
        "    losses.append(thisLoss)\n",
        "    if thisIteration % 100 == 0:\n",
        "        print(\"[iteration %04d] loss: %.4f\" % (thisIteration + 1, thisLoss / float(N_samples)))\n",
        "        \n",
        "\n",
        "plt.plot(losses)\n",
        "plt.title(\"ELBO\")\n",
        "plt.xlabel(\"step\")\n",
        "plt.ylabel(\"loss\")"
      ],
      "execution_count": null,
      "outputs": [
        {
          "output_type": "stream",
          "name": "stdout",
          "text": [
            "[iteration 0001] loss: 2.5498\n"
          ]
        },
        {
          "output_type": "stream",
          "name": "stderr",
          "text": [
            "/usr/local/lib/python3.7/dist-packages/pyro/primitives.py:492: FutureWarning: The `random_module` primitive is deprecated, and will be removed in a future release. Use `pyro.nn.Module` to create Bayesian modules from `torch.nn.Module` instances.\n",
            "  FutureWarning,\n"
          ]
        },
        {
          "output_type": "stream",
          "name": "stdout",
          "text": [
            "[iteration 0101] loss: 1.0786\n",
            "[iteration 0201] loss: 1.0699\n",
            "[iteration 0301] loss: 1.0650\n",
            "[iteration 0401] loss: 1.0369\n",
            "[iteration 0501] loss: 1.0227\n",
            "[iteration 0601] loss: 1.0148\n",
            "[iteration 0701] loss: 1.0090\n",
            "[iteration 0801] loss: 0.9948\n",
            "[iteration 0901] loss: 1.0003\n"
          ]
        },
        {
          "output_type": "execute_result",
          "data": {
            "text/plain": [
              "Text(0, 0.5, 'loss')"
            ]
          },
          "metadata": {},
          "execution_count": 212
        },
        {
          "output_type": "display_data",
          "data": {
            "image/png": "[encoded data removed]",
            "text/plain": [
              "<Figure size 432x288 with 1 Axes>"
            ]
          },
          "metadata": {
            "needs_background": "light"
          }
        }
      ]
    },
    {
      "cell_type": "code",
      "metadata": {
        "colab": {
          "base_uri": "https://localhost:8080/"
        },
        "id": "ZqT9sRDcgyfG",
        "outputId": "7cdbb3e2-687f-4132-a660-776cc30ba079"
      },
      "source": [
        "#for name in pyro.get_param_store().get_all_param_names():\n",
        "#    print(name, pyro.param(name).data.numpy())\n",
        "\n",
        "guide_loc_weight = pyro.param(\"guide_loc_weight\")[0]\n",
        "guide_scale_weight = pyro.param(\"guide_scale_weight\")[0]\n",
        "\n",
        "print(\"b0 ~ Normal(%.4f, %.4f)\" % (pyro.param(\"guide_loc_bias\").item(), pyro.param(\"guide_scale_bias\").item()))\n",
        "for j in range(len(guide_loc_weight)):\n",
        "    print(\"b%1d\" % (j+1), \"~ Normal(%.4f, %.4f)\" % (guide_loc_weight[j], guide_scale_weight[j]))\n",
        "    "
      ],
      "execution_count": null,
      "outputs": [
        {
          "output_type": "stream",
          "name": "stdout",
          "text": [
            "b0 ~ Normal(-0.7716, 0.0259)\n",
            "b1 ~ Normal(-0.3039, 0.0968)\n",
            "b2 ~ Normal(0.9158, 0.0564)\n",
            "b3 ~ Normal(1.2147, 0.0416)\n",
            "b4 ~ Normal(1.1157, 0.0799)\n",
            "b5 ~ Normal(-0.9618, 0.0846)\n",
            "b6 ~ Normal(-0.0373, 0.1022)\n",
            "b7 ~ Normal(-1.1585, 0.0398)\n",
            "b8 ~ Normal(0.1713, 0.0694)\n",
            "b9 ~ Normal(0.1973, 0.0544)\n"
          ]
        }
      ]
    },
    {
      "cell_type": "code",
      "metadata": {
        "id": "BNGaAmbXhVGj"
      },
      "source": [
        "b_0 = pyro.sample(\"b_0\", Normal(pyro.param(\"guide_loc_bias\").item(), pyro.param(\"guide_scale_bias\").item()))\n",
        "b_1 = pyro.sample(\"b_1\", Normal(guide_loc_weight[0], guide_scale_weight[0]))\n",
        "b_2 = pyro.sample(\"b_2\", Normal(guide_loc_weight[1], guide_scale_weight[1]))\n",
        "b_3 = pyro.sample(\"b_3\", Normal(guide_loc_weight[2], guide_scale_weight[2]))\n",
        "b_4 = pyro.sample(\"b_4\", Normal(guide_loc_weight[3], guide_scale_weight[3]))\n",
        "b_5 = pyro.sample(\"b_5\", Normal(guide_loc_weight[4], guide_scale_weight[4]))\n",
        "b_6 = pyro.sample(\"b_6\", Normal(guide_loc_weight[5], guide_scale_weight[5]))\n",
        "b_7 = pyro.sample(\"b_7\", Normal(guide_loc_weight[6], guide_scale_weight[6]))\n",
        "b_8 = pyro.sample(\"b_8\", Normal(guide_loc_weight[7], guide_scale_weight[7]))\n",
        "b_9 = pyro.sample(\"b_9\", Normal(guide_loc_weight[8], guide_scale_weight[8]))\n",
        "# print(b_0)"
      ],
      "execution_count": null,
      "outputs": []
    },
    {
      "cell_type": "code",
      "metadata": {
        "id": "tf2GFG2apeZn"
      },
      "source": [
        "# print(sampled_data)"
      ],
      "execution_count": null,
      "outputs": []
    },
    {
      "cell_type": "code",
      "metadata": {
        "id": "EhcbOFhEhdUY"
      },
      "source": [
        "# new_data = [0.20,    0.60,     0.90,   0.33,   0.20,   0.47,  0.90,     0.47,      0.960]\n",
        "\n",
        "new_predictions = []\n",
        "for new_data in test_set:\n",
        "  # print(\"New Data 9 : \", new_data[9])\n",
        "  new_prediction = b_0 + b_1 * new_data[0] + b_2 * new_data[1] + b_3 * new_data[2] + b_4 * new_data[3] + b_5 * new_data[4] + b_6 * new_data[5] + b_7 * new_data[6] + b_8 * new_data[7] + b_9 * new_data[8] \n",
        "  new_predictions.append(new_prediction.item())"
      ],
      "execution_count": null,
      "outputs": []
    },
    {
      "cell_type": "code",
      "metadata": {
        "colab": {
          "base_uri": "https://localhost:8080/"
        },
        "id": "ovQgA6MzpSpm",
        "outputId": "2acee493-e1b5-4e97-f1a9-5296e46b024a"
      },
      "source": [
        "# Dimension value for test_set to calculate average_MAE\n",
        "\n",
        "# Happy           ->  9\n",
        "# Sad             ->  10\n",
        "# Anger           ->  11\n",
        "# Disgust         ->  12\n",
        "# Fear            ->  13\n",
        "# Content         ->  14\n",
        "# Disappointment  ->  15\n",
        "\n",
        "import math\n",
        "\n",
        "average_rmse = 0\n",
        "for x in range(len(test_set)):\n",
        "  average_rmse += math.sqrt(abs((math.pow(new_predictions[x], 2) - math.pow(test_set[x][15].item(), 2))))\n",
        "  # print(math.sqrt(abs((math.pow(new_predictions[x], 2) - math.pow(test_dataset.dataset[x][9].item(), 2)))))\n",
        "\n",
        "average_rmse = average_rmse/len(test_set)\n",
        "\n",
        "print(average_rmse)\n",
        "# average_MAE = average_MAE/5\n",
        "\n",
        "# print(average_MAE)"
      ],
      "execution_count": null,
      "outputs": [
        {
          "output_type": "stream",
          "name": "stdout",
          "text": [
            "0.38958410243688857\n"
          ]
        }
      ]
    },
    {
      "cell_type": "code",
      "metadata": {
        "id": "PELAuvwChD9Y"
      },
      "source": [
        "# ------------------------------------------------- Multiple Emotions [Proposed EMPath Framework] ------------------------------------\n",
        "# ---------------------------------------------------------------------------------------------------------------------------------\n",
        "# ---------------------------------------------------------------------------------------------------------------------------------\n",
        "# ---------------------------------------------------------------------------------------------------------------------------------\n",
        "# ---------------------------------------------------------------------------------------------------------------------------------"
      ],
      "execution_count": null,
      "outputs": []
    },
    {
      "cell_type": "code",
      "metadata": {
        "colab": {
          "base_uri": "https://localhost:8080/"
        },
        "id": "6Elzdw9Rf1pi",
        "outputId": "4a4a6db3-e873-49da-ebcc-9329e57b0d8d"
      },
      "source": [
        "!pip install torch torchvision pyro-ppl\n",
        "\n",
        "#import os\n",
        "import numpy as np\n",
        "import pandas as pd\n",
        "import matplotlib.pyplot as plt\n",
        "import sklearn.model_selection as sk\n",
        "\n",
        "import torch\n",
        "import torch.nn as nn\n",
        "\n",
        "import pyro\n",
        "import pyro.distributions as dist\n",
        "from pyro.distributions import Normal\n",
        "from pyro.infer import SVI, Trace_ELBO\n",
        "from pyro.optim import Adam\n",
        "\n",
        "print(\"Currently using Pyro version: \" + pyro.__version__)"
      ],
      "execution_count": null,
      "outputs": [
        {
          "output_type": "stream",
          "name": "stdout",
          "text": [
            "Requirement already satisfied: torch in /usr/local/lib/python3.7/dist-packages (1.9.0+cu111)\n",
            "Requirement already satisfied: torchvision in /usr/local/lib/python3.7/dist-packages (0.10.0+cu111)\n",
            "Requirement already satisfied: pyro-ppl in /usr/local/lib/python3.7/dist-packages (1.7.0)\n",
            "Requirement already satisfied: typing-extensions in /usr/local/lib/python3.7/dist-packages (from torch) (3.7.4.3)\n",
            "Requirement already satisfied: numpy in /usr/local/lib/python3.7/dist-packages (from torchvision) (1.19.5)\n",
            "Requirement already satisfied: pillow>=5.3.0 in /usr/local/lib/python3.7/dist-packages (from torchvision) (7.1.2)\n",
            "Requirement already satisfied: pyro-api>=0.1.1 in /usr/local/lib/python3.7/dist-packages (from pyro-ppl) (0.1.2)\n",
            "Requirement already satisfied: opt-einsum>=2.3.2 in /usr/local/lib/python3.7/dist-packages (from pyro-ppl) (3.3.0)\n",
            "Requirement already satisfied: tqdm>=4.36 in /usr/local/lib/python3.7/dist-packages (from pyro-ppl) (4.62.3)\n",
            "Currently using Pyro version: 1.7.0\n"
          ]
        }
      ]
    },
    {
      "cell_type": "code",
      "metadata": {
        "colab": {
          "base_uri": "https://localhost:8080/"
        },
        "id": "OWw2weqMf1k2",
        "outputId": "22de31b1-9e24-4be6-b9cf-74bb9e5e3aa0"
      },
      "source": [
        "# data location\n",
        "#dataset_path = os.path.join(os.path.abspath('..'), \"CognitionData\", \"data_wheelOnly.csv\")\n",
        "dataset_path = \"https://desmond-ong.github.io/pplAffComp/CognitionData/data_wheelOnly.csv\"\n",
        "\n",
        "OUTCOME_VAR_NAMES = [\"payoff1\", \"payoff2\", \"payoff3\", \"prob1\", \"prob2\", \"prob3\", \"win\", \"winProb\", \"angleProp\"]\n",
        "EMOTION_VAR_NAMES = [\"happy\", \"sad\", \"anger\", \"disgust\", \"fear\", \"content\", \"disapp\"]\n",
        "\n",
        "OUTCOME_VAR_NAMES_CONV = [0, 1, 2, 3, 4, 5, 6, 7, 8]\n",
        "EMOTION_VAR_NAMES_CONV = [9, 10, 11, 12, 13, 14, 15]\n",
        "\n",
        "OUTCOME_VAR_DIM = len(OUTCOME_VAR_NAMES)\n",
        "EMOTION_VAR_DIM = len(EMOTION_VAR_NAMES)\n",
        "\n",
        "def load_outcome_emotion_dataset(csv_file, normalize_values=True, preview_datafile=False):\n",
        "    data_readin = pd.read_csv(csv_file)\n",
        "    outcome_data = data_readin.loc[:,OUTCOME_VAR_NAMES]\n",
        "    if normalize_values:\n",
        "        ####\n",
        "        ## payoff1, payoff2, payoff3 and win are between 0 and 100\n",
        "        ## need to normalize to [0,1] to match the rest of the variables,\n",
        "        ## by dividing payoff1, payoff2, payoff3 and win by 100\n",
        "        ####\n",
        "        outcome_data.loc[:,\"payoff1\"] = outcome_data.loc[:,\"payoff1\"]/100\n",
        "        outcome_data.loc[:,\"payoff2\"] = outcome_data.loc[:,\"payoff2\"]/100\n",
        "        outcome_data.loc[:,\"payoff3\"] = outcome_data.loc[:,\"payoff3\"]/100\n",
        "        outcome_data.loc[:,\"win\"]     = outcome_data.loc[:,\"win\"]/100\n",
        "    outcome_data_tensor = torch.tensor(outcome_data.values).type(torch.Tensor)\n",
        "    \n",
        "    emotion_data = data_readin.loc[:,EMOTION_VAR_NAMES]\n",
        "    if normalize_values:\n",
        "        ## note that emotions are transformed from a 9 point Likert to [0,1] via emo <- (emo-1)/8\n",
        "        emotion_data   = (emotion_data-1)/8\n",
        "    emotion_data_tensor = torch.tensor(emotion_data.values).type(torch.Tensor)\n",
        "    \n",
        "    if preview_datafile:\n",
        "        print(\"Preview of first 3 rows:\")\n",
        "        print(outcome_data.loc[0:2,:])\n",
        "        print(emotion_data.loc[0:2,:])\n",
        "    \n",
        "    data = torch.cat((outcome_data_tensor, emotion_data_tensor), 1)\n",
        "\n",
        "    preprocessed_data = pd.concat([outcome_data, emotion_data], axis=1)\n",
        "\n",
        "    shuffled_data = preprocessed_data.sample(frac=1)\n",
        "    divided_parts = np.array_split(shuffled_data, 4)  \n",
        "\n",
        "    train_set = pd.concat([divided_parts[0], divided_parts[1]], axis = 0)\n",
        "    train_set = pd.concat([train_set, divided_parts[2]], axis = 0)\n",
        "    test_set  = divided_parts[3] \n",
        "    \n",
        "    # train_set_tensor = torch.tensor(train_set.values).type(torch.Tensor)\n",
        "    # test_set_tensor  = torch.tensor(test_set.values).type(torch.Tensor)\n",
        "    \n",
        "    # return train_set, test_set\n",
        "    # for part in result:\n",
        "      # print(part,'\\n')\n",
        "    # X_train, X_test, Y_train, Y_test = sk.train_test_split(OUTCOME_VAR_NAMES,EMOTION_VAR_NAMES,test_size=0.25, random_state = 42)\n",
        "\n",
        "    # print(\"X_train : \", X_train)\n",
        "    # return data    \n",
        "    # # Splitting into training and testing datasets\n",
        "    # train_size = int(0.75 * len(data))\n",
        "    # test_size = len(data) - train_size\n",
        "    # train_dataset, test_dataset = torch.utils.data.random_split(data, [train_size, test_size])\n",
        "\n",
        "    # print(len(data))\n",
        "    # print(len(train_dataset.dataset))\n",
        "    # print(len(test_dataset.dataset))\n",
        "\n",
        "    # train_dataset_pd = pd.DataFrame(train_dataset.dataset).astype(\"float\")\n",
        "    # test_dataset_pd = pd.DataFrame(test_dataset.dataset).astype(\"float\")\n",
        "\n",
        "    # # print(train_data)\n",
        "    outcome_data_train =  train_set.loc[:,OUTCOME_VAR_NAMES]\n",
        "    emotion_data_train = train_set.loc[:,EMOTION_VAR_NAMES]\n",
        "    outcome_data_test = test_set.loc[:,OUTCOME_VAR_NAMES]\n",
        "    emotion_data_test = test_set.loc[:,EMOTION_VAR_NAMES]\n",
        "\n",
        "    # # return data\n",
        "    return outcome_data_train, emotion_data_train, outcome_data_test, emotion_data_test\n",
        "\n",
        "# reads in datafile.\n",
        "print(\"Reading in dataset...\")\n",
        "# train_set, test_set = load_outcome_emotion_dataset(csv_file=dataset_path, preview_datafile=True)\n",
        "outcome_data_train, emotion_data_train, outcome_data_test, emotion_data_test = load_outcome_emotion_dataset(csv_file=dataset_path, preview_datafile=True)\n",
        "\n",
        "\n",
        "# Splitting into training and testing datasets\n",
        "# train_size = int(0.75 * len(outcome_emotion_dataset))\n",
        "# test_size = len(outcome_emotion_dataset) - train_size\n",
        "# train_dataset, test_dataset = torch.utils.data.random_split(outcome_emotion_dataset, [train_size, test_size])\n",
        "\n",
        "# print(len(outcome_emotion_dataset))\n",
        "# print(len(train_dataset.dataset))\n",
        "# print(len(test_dataset.dataset))\n",
        "\n",
        "# train_dataset_pd = pd.DataFrame(train_dataset.dataset).astype(\"float\")\n",
        "# test_dataset_pd = pd.DataFrame(test_dataset.dataset).astype(\"float\")\n",
        "\n",
        "# # print(train_data)\n",
        "# outcome_data_train =  train_dataset_pd.loc[:,OUTCOME_VAR_NAMES_CONV]\n",
        "# emotion_data_train = train_dataset_pd.loc[:,EMOTION_VAR_NAMES_CONV]\n",
        "# outcome_data_test = test_dataset_pd.loc[:,OUTCOME_VAR_NAMES_CONV]\n",
        "# emotion_data_test = test_dataset_pd.loc[:,EMOTION_VAR_NAMES_CONV]\n",
        "\n",
        "\n",
        "print(train_set)\n",
        "# outcome_data = outcome_emotion_dataset[:, :(OUTCOME_VAR_DIM)]\n",
        "# emotion_data = outcome_emotion_dataset[:, (OUTCOME_VAR_DIM):]\n",
        "\n",
        "print(\"Outcome Train Set Shape : \", outcome_data_train.shape)\n",
        "print(\"Emotion Train Set Shape : \", emotion_data_train.shape)\n",
        "print(\"Outcome Test Set Shape : \", outcome_data_test.shape)\n",
        "print(\"Emotion Test Set Shape : \", emotion_data_test.shape)\n",
        "\n",
        "# N_samples = outcome_emotion_dataset.shape[0]\n",
        "\n",
        "# print(\"Shape of dataset: \", outcome_emotion_dataset.shape)"
      ],
      "execution_count": null,
      "outputs": [
        {
          "output_type": "stream",
          "name": "stdout",
          "text": [
            "Reading in dataset...\n",
            "Preview of first 3 rows:\n",
            "   payoff1  payoff2  payoff3  prob1  prob2  prob3  win  winProb  angleProp\n",
            "0     0.50     0.75      0.9   0.30   0.52   0.18  0.5     0.30      0.921\n",
            "1     0.15     0.70      0.8   0.45   0.29   0.26  0.8     0.26      0.873\n",
            "2     0.50     0.75      0.9   0.30   0.52   0.18  0.5     0.30      0.467\n",
            "   happy    sad  anger  disgust  fear  content  disapp\n",
            "0  0.625  0.000  0.000     0.25   0.0    0.625   0.375\n",
            "1  0.875  0.000  0.000     0.00   0.0    0.000   0.000\n",
            "2  0.625  0.125  0.125     0.00   0.0    0.250   0.500\n",
            "tensor([[0.2000, 0.4500, 0.7000,  ..., 0.1250, 0.8750, 0.1250],\n",
            "        [0.5000, 0.7500, 0.9000,  ..., 0.0000, 0.0000, 0.3750],\n",
            "        [0.2500, 0.6000, 1.0000,  ..., 0.3750, 0.5000, 0.6250],\n",
            "        ...,\n",
            "        [0.2000, 0.6000, 0.9000,  ..., 0.0000, 0.8750, 0.0000],\n",
            "        [0.2000, 0.6000, 0.9000,  ..., 0.1250, 0.7500, 0.0000],\n",
            "        [0.5000, 0.7500, 0.9000,  ..., 0.0000, 0.3750, 0.0000]])\n",
            "Outcome Train Set Shape :  (1156, 9)\n",
            "Emotion Train Set Shape :  (1156, 7)\n",
            "Outcome Test Set Shape :  (385, 9)\n",
            "Emotion Test Set Shape :  (385, 7)\n"
          ]
        }
      ]
    },
    {
      "cell_type": "code",
      "metadata": {
        "id": "T1q6zREZcRoW"
      },
      "source": [
        "# sampled_data = outcome_data.loc[0:10, :]\n",
        "# print(sampled_data)"
      ],
      "execution_count": null,
      "outputs": []
    },
    {
      "cell_type": "code",
      "metadata": {
        "id": "fdUWsCShk3-t"
      },
      "source": [
        "# sampled_target = emotion_data.loc[0:10, :]\n",
        "# print(sampled_target)"
      ],
      "execution_count": null,
      "outputs": []
    },
    {
      "cell_type": "code",
      "metadata": {
        "id": "H5guv-l9f1hu"
      },
      "source": [
        "from keras.models import Sequential\n",
        "from keras.layers import Dense\n",
        "from numpy import asarray"
      ],
      "execution_count": null,
      "outputs": []
    },
    {
      "cell_type": "code",
      "metadata": {
        "id": "5yLc5OSGf1dg"
      },
      "source": [
        "def get_model(n_inputs, n_outputs):\n",
        "  model = Sequential()\n",
        "  model.add(Dense(320, input_dim=n_inputs, kernel_initializer='he_uniform', activation='relu'))\n",
        "  model.add(Dense(160, input_dim=320, kernel_initializer='he_uniform', activation='relu'))\n",
        "  model.add(Dense(80, input_dim=160, kernel_initializer='he_uniform', activation='relu'))\n",
        "  model.add(Dense(40, input_dim=80, kernel_initializer='he_uniform', activation='relu'))\n",
        "  model.add(Dense(n_outputs))\n",
        "  model.compile(loss='mae', optimizer='adam')\n",
        "  return model"
      ],
      "execution_count": null,
      "outputs": []
    },
    {
      "cell_type": "code",
      "metadata": {
        "id": "QCDKo-tSgGXm"
      },
      "source": [
        "from sklearn.model_selection import RepeatedKFold\n",
        "from numpy import mean\n",
        "from numpy import std"
      ],
      "execution_count": null,
      "outputs": []
    },
    {
      "cell_type": "code",
      "metadata": {
        "id": "04lHZotQf1Y6"
      },
      "source": [
        "def evaluate_model(X, y):\n",
        "\tresults = list()\n",
        "\tn_inputs, n_outputs = X.shape[1], y.shape[1]\n",
        "\t# define evaluation procedure\n",
        "\tcv = RepeatedKFold(n_splits=10, n_repeats=3, random_state=1)\n",
        "\t# enumerate folds\n",
        "\tfor train_ix, test_ix in cv.split(X):\n",
        "\t\t# prepare data\n",
        "    # x.iloc[list(train_index)], x.iloc[list(test_index)]\n",
        "\t\tX_train, X_test = X.iloc[list(train_ix)], X.iloc[list(test_ix)]\n",
        "\t\ty_train, y_test = y.iloc[list(train_ix)], y.iloc[list(test_ix)]\n",
        "\t\t# define model\n",
        "\t\tmodel = get_model(n_inputs, n_outputs)\n",
        "\t\t# fit modelb\n",
        "\t\tmodel.fit(X_train, y_train, verbose=0, epochs=100)\n",
        "\t\t# evaluate model on test set\n",
        "\t\tmae = model.evaluate(X_test, y_test, verbose=0)\n",
        "\t\t# store result\n",
        "\t\tprint('>%.3f' % mae)\n",
        "\t\tresults.append(mae)\n",
        "\treturn results"
      ],
      "execution_count": null,
      "outputs": []
    },
    {
      "cell_type": "code",
      "metadata": {
        "id": "CvPCGx6Ennhp"
      },
      "source": [
        "# print(\"Outcome Data\")\n",
        "# print(outcome_data)\n",
        "# print(outcome_data.shape)\n",
        "\n",
        "# print(\"Emotion Data\")\n",
        "# print(emotion_data)\n",
        "# print(emotion_data.shape)"
      ],
      "execution_count": null,
      "outputs": []
    },
    {
      "cell_type": "code",
      "metadata": {
        "id": "9aMET174f1UL",
        "colab": {
          "base_uri": "https://localhost:8080/"
        },
        "outputId": "dca94bc4-5dde-427f-e4f7-471709e8442d"
      },
      "source": [
        "# evaluate model\n",
        "results = evaluate_model(outcome_data_train, emotion_data_train)\n",
        "# summarize performance\n",
        "print('MAE: %.3f (%.3f)' % (mean(results), std(results)))"
      ],
      "execution_count": null,
      "outputs": [
        {
          "output_type": "stream",
          "name": "stdout",
          "text": [
            ">0.148\n",
            ">0.126\n",
            ">0.136\n",
            ">0.132\n",
            ">0.150\n",
            ">0.137\n",
            ">0.125\n",
            ">0.132\n",
            ">0.139\n",
            ">0.125\n",
            ">0.135\n",
            ">0.140\n",
            ">0.146\n",
            ">0.141\n",
            ">0.129\n",
            ">0.135\n",
            ">0.135\n",
            ">0.132\n",
            ">0.128\n",
            ">0.124\n",
            ">0.139\n",
            ">0.124\n",
            ">0.140\n",
            ">0.148\n",
            ">0.137\n",
            ">0.130\n",
            ">0.135\n",
            ">0.130\n",
            ">0.128\n",
            ">0.137\n",
            "MAE: 0.135 (0.007)\n"
          ]
        }
      ]
    },
    {
      "cell_type": "code",
      "metadata": {
        "id": "XHvYAm9of1SC",
        "colab": {
          "base_uri": "https://localhost:8080/"
        },
        "outputId": "a4d7d31c-1ad0-42a2-9fc2-f0050e6caee9"
      },
      "source": [
        "n_inputs, n_outputs = outcome_data_train.shape[1], emotion_data_train.shape[1]\n",
        "# get model\n",
        "model = get_model(n_inputs, n_outputs)\n",
        "# fit the model on all data\n",
        "model.fit(outcome_data_train, emotion_data_train, verbose=0, epochs=100)"
      ],
      "execution_count": null,
      "outputs": [
        {
          "output_type": "execute_result",
          "data": {
            "text/plain": [
              "<keras.callbacks.History at 0x7f271df87090>"
            ]
          },
          "metadata": {},
          "execution_count": 229
        }
      ]
    },
    {
      "cell_type": "code",
      "metadata": {
        "id": "ZqF35ombNhXd"
      },
      "source": [
        "def mood_push_and_pull(VEC_PAD, CurrentMood_PAD, push_intensity):\n",
        "  \n",
        "  dist_between_VEC_Current  = math.sqrt(math.pow(VEC_P - CurrentMood_PAD[0], 2) + math.pow(VEC_A - CurrentMood_PAD[1], 2) + math.pow(VEC_D - CurrentMood_PAD[2], 2))\n",
        "  scale = push_intensity/dist_between_VEC_Current\n",
        "\n",
        "  if (((VEC_PAD[0] * CurrentMood_PAD[0]) > 0) and ((VEC_PAD[1] * CurrentMood_PAD[1]) > 0) and ((VEC_PAD[2] * CurrentMood_PAD[2]) > 0) ):\n",
        "    if (VEC_PAD[0] >= 0):\n",
        "      if (CurrentMood_PAD[0] < VEC_PAD[0]):\n",
        "        NewMood_P = CurrentMood_PAD[0] + (scale * (VEC_PAD[0] - CurrentMood_PAD[0]))\n",
        "        NewMood_A = CurrentMood_PAD[1] + (scale * (VEC_PAD[1] - CurrentMood_PAD[1]))\n",
        "        NewMood_D = CurrentMood_PAD[2] + (scale * (VEC_PAD[2] - CurrentMood_PAD[2]))\n",
        "      else:\n",
        "        NewMood_P = CurrentMood_PAD[0] + (scale * (CurrentMood_PAD[0] - VEC_PAD[0]))\n",
        "        NewMood_A = CurrentMood_PAD[1] + (scale * (CurrentMood_PAD[1] - VEC_PAD[1]))\n",
        "        NewMood_D = CurrentMood_PAD[2] + (scale * (CurrentMood_PAD[2] - VEC_PAD[2]))\n",
        "    else:\n",
        "      if (CurrentMood_PAD[0] > VEC_PAD[0]):\n",
        "        NewMood_P = CurrentMood_PAD[0] + (scale * (VEC_PAD[0] - CurrentMood_PAD[0]))\n",
        "        NewMood_A = CurrentMood_PAD[1] + (scale * (VEC_PAD[1] - CurrentMood_PAD[1]))\n",
        "        NewMood_D = CurrentMood_PAD[2] + (scale * (VEC_PAD[2] - CurrentMood_PAD[2]))\n",
        "      else:\n",
        "        NewMood_P = CurrentMood_PAD[0] + (scale * (CurrentMood_PAD[0] - VEC_PAD[0]))\n",
        "        NewMood_A = CurrentMood_PAD[1] + (scale * (CurrentMood_PAD[1] - VEC_PAD[1]))\n",
        "        NewMood_D = CurrentMood_PAD[2] + (scale * (CurrentMood_PAD[2] - VEC_PAD[2]))\n",
        "  else :   \n",
        "        NewMood_P = CurrentMood_PAD[0] + (scale * (VEC_PAD[0] - CurrentMood_PAD[0]))\n",
        "        NewMood_A = CurrentMood_PAD[1] + (scale * (VEC_PAD[1] - CurrentMood_PAD[1]))\n",
        "        NewMood_D = CurrentMood_PAD[2] + (scale * (VEC_PAD[2] - CurrentMood_PAD[2]))\n",
        "\n",
        "  NewMood_PAD = [NewMood_P, NewMood_A, NewMood_D]\n",
        "  return NewMood_PAD"
      ],
      "execution_count": null,
      "outputs": []
    },
    {
      "cell_type": "code",
      "metadata": {
        "id": "nJ3FTc-7LIbZ"
      },
      "source": [
        "# Concatenating Prediction + EMP Cycle in One Cell for looped predictions\n",
        "# print(outcome_data_test)\n",
        "outcome_data_test_arr = np.asarray(outcome_data_test)\n",
        "emotion_data_test_arr = np.asarray(emotion_data_test)\n",
        "\n",
        "final_emp_outcomes = []\n",
        "\n",
        "for target in outcome_data_test_arr:\n",
        "  # print(target)\n",
        "  newTarget = asarray([target])\n",
        "  yhat = model.predict(newTarget)\n",
        "  prediction = yhat[0]\n",
        "  # print('Predicted: %s' % yhat[0])\n",
        "\n",
        "  # Defining a character's personality based on the Big Five Personality Model\n",
        "  Openness = 0.4\n",
        "  Conscientiousness = 0.8\n",
        "  Extraversion = 0.6\n",
        "  Agreeableness = 0.3\n",
        "  Neuroticism = 0.4\n",
        "\n",
        "  # Since, we do not have information about the participants in the trial. We assume that on an average the peope were in a slightly relaxed default mood.\n",
        "  # The personality traits chosen are hence so. \n",
        "\n",
        "  # Calculating default mood in the PAD space based on the above peronality characteristics\n",
        "  Pleasure  = (0.21 * Extraversion) + (0.59 * Agreeableness)        + (0.19 * Neuroticism)\n",
        "  Arousal   = (0.15 * Openness)     + (0.30 * Agreeableness)        - (0.57 * Neuroticism)\n",
        "  Dominance = (0.25 * Openness)     + (0.17 * Conscientiousness)    + (0.60 * Extraversion)     - (0.32 * Agreeableness) \n",
        "\n",
        "  DefaultMood_PAD = [Pleasure, Arousal, Dominance]\n",
        "\n",
        "\n",
        "  # PAD Mappings for Emotions\n",
        "  # Mappings were not available for all emotions in the dataset. The emotions which were nearest in meaning and had mappings available were thus chosen.\n",
        "  # Except Surprise, we could find alternatives for every other emotion. As a result Surprise was dropped from the dataset and thus the predictions.\n",
        "\n",
        "  # Emotion (Dataset) <-------> Mapped Emotion in PAD Space\n",
        "  # Happy             -         Joy\n",
        "  # Sad               -         Remorse\n",
        "  # Anger             -         Anger\n",
        "  # Disgust           -         Shame\n",
        "  # Fear              -         Fear\n",
        "  # Content           -         Gratification\n",
        "  # Disappointment    -         Disappointment\n",
        "\n",
        "  Happy_Intensity              = prediction[0] if (prediction[0] > 0) else 0.0\n",
        "  Sad_Intensity                = prediction[1] if (prediction[1] > 0) else 0.0\n",
        "  Anger_Intensity              = prediction[2] if (prediction[2] > 0) else 0.0\n",
        "  Disgust_Intensity            = prediction[3] if (prediction[3] > 0) else 0.0\n",
        "  Fear_Intensity               = prediction[4] if (prediction[4] > 0) else 0.0\n",
        "  Content_Intensity            = prediction[5] if (prediction[5] > 0) else 0.0\n",
        "  Disappointment_Intensity     = prediction[6] if (prediction[6] > 0) else 0.0\n",
        "\n",
        "  Happy_PAD           = [0.4, 0.2, -0.3]\n",
        "  Sad_PAD             = [-0.3, 0.1, -0.6]\n",
        "  Anger_PAD           = [-0.51, 0.59, 0.25]\n",
        "  Disgust_PAD         = [-0.3, 0.1, -0.6]\n",
        "  Fear_PAD            = [-0.64, 0.60, -0.43]\n",
        "  Content_PAD         = [0.6, 0.5, 0.4]\n",
        "  Disappointment_PAD  = [-0.3, 0.1, -0.4]\n",
        "\n",
        "  Appraised_Intensities = [Happy_Intensity, Sad_Intensity, Anger_Intensity, Disgust_Intensity, Fear_Intensity, Content_Intensity, Disappointment_Intensity]\n",
        "  Mapped_Emotions       = [Happy_PAD, Sad_PAD, Anger_PAD, Disgust_PAD, Fear_PAD, Content_PAD, Disappointment_PAD]\n",
        "\n",
        "  # Calculating Virtual Emotion Centre\n",
        "  Summation_Intensities = Happy_Intensity + Sad_Intensity + Anger_Intensity + Disgust_Intensity + Fear_Intensity + Content_Intensity + Disappointment_Intensity\n",
        "\n",
        "  VEC_P   = ( (Happy_Intensity * Happy_PAD[0]) + (Sad_Intensity * Sad_PAD[0]) + (Anger_Intensity * Anger_PAD[0]) + (Disgust_Intensity * Disgust_PAD[0]) + (Fear_Intensity * Fear_PAD[0]) + (Content_Intensity * Content_PAD[0]) + (Disappointment_Intensity * Disappointment_PAD[0])) / Summation_Intensities\n",
        "  VEC_A   = ( (Happy_Intensity * Happy_PAD[1]) + (Sad_Intensity * Sad_PAD[1]) + (Anger_Intensity * Anger_PAD[1]) + (Disgust_Intensity * Disgust_PAD[1]) + (Fear_Intensity * Fear_PAD[1]) + (Content_Intensity * Content_PAD[1]) + (Disappointment_Intensity * Disappointment_PAD[1])) / Summation_Intensities\n",
        "  VEC_D   = ( (Happy_Intensity * Happy_PAD[2]) + (Sad_Intensity * Sad_PAD[2]) + (Anger_Intensity * Anger_PAD[2]) + (Disgust_Intensity * Disgust_PAD[2]) + (Fear_Intensity * Fear_PAD[2]) + (Content_Intensity * Content_PAD[2]) + (Disappointment_Intensity * Disappointment_PAD[2])) / Summation_Intensities\n",
        "\n",
        "  VEC_PAD = [VEC_P, VEC_A, VEC_D]\n",
        "  # print(\"Virtual Emotion Centre : \", VEC_PAD)\n",
        "\n",
        "  CurrentMood_PAD = DefaultMood_PAD\n",
        "  push_intensity = Summation_Intensities/7.0\n",
        "  NewMood_PAD = mood_push_and_pull(VEC_PAD, CurrentMood_PAD, push_intensity)\n",
        "\n",
        "  # Per Emotion Regulation \n",
        "  # P_Val = 1 if (Happy_PAD[0] * NewMood_PAD[0]) > 0 else -1\n",
        "  # A_Val = 1 if (Happy_PAD[1] * NewMood_PAD[1]) > 0 else -1\n",
        "  # D_Val = 1 if (Happy_PAD[2] * NewMood_PAD[2]) > 0 else -1\n",
        "\n",
        "  # New_Happy_P = Happy_PAD[0] * (1 + (0.25 * P_Val * NewMood_PAD[0]))\n",
        "  # New_Happy_A = Happy_PAD[1] * (1 + (0.25 * A_Val * NewMood_PAD[1]))\n",
        "  # New_Happy_D = Happy_PAD[2] * (1 + (0.25 * D_Val * NewMood_PAD[2]))\n",
        "\n",
        "  # New_Happy_PAD = [New_Happy_P, New_Happy_A, New_Happy_D]\n",
        "\n",
        "\n",
        "  # All emotions are regulated based on the valence value\n",
        "  New_Generated_Emotions = []\n",
        "\n",
        "  for emotion in Mapped_Emotions:\n",
        "    P_Val = 1 if (emotion[0] * NewMood_PAD[0]) > 0 else -1\n",
        "    A_Val = 1 if (emotion[1] * NewMood_PAD[1]) > 0 else -1\n",
        "    D_Val = 1 if (emotion[2] * NewMood_PAD[2]) > 0 else -1\n",
        "\n",
        "    New_Emotion_P = emotion[0] * (1 + (0.25 * P_Val * NewMood_PAD[0]))\n",
        "    New_Emotion_A = emotion[1] * (1 + (0.25 * A_Val * NewMood_PAD[1]))\n",
        "    New_Emotion_D = emotion[2] * (1 + (0.25 * D_Val * NewMood_PAD[2]))\n",
        "\n",
        "    New_Emotion_PAD = [New_Emotion_P, New_Emotion_A, New_Emotion_D]\n",
        "    New_Generated_Emotions.append(New_Emotion_PAD)\n",
        "  \n",
        "  Final_Intensities_Generated = []\n",
        "\n",
        "  Original_Emotion_Norms = []\n",
        "  New_Emotion_Norms =[]\n",
        "\n",
        "  # Calculating Norm for Original PADs \n",
        "  for emotion in Mapped_Emotions:\n",
        "    emotion_norm = math.sqrt(math.pow(emotion[0], 2) + math.pow(emotion[1], 2) + math.pow(emotion[2], 2))\n",
        "    Original_Emotion_Norms.append(emotion_norm)\n",
        "\n",
        "  # Calculating Norm for Newly Generated PADs \n",
        "  for new_emotion in New_Generated_Emotions:\n",
        "    new_emotion_norm  = math.sqrt(math.pow(new_emotion[0], 2) + math.pow(new_emotion[1], 2) + math.pow(new_emotion[2], 2))\n",
        "    New_Emotion_Norms.append(new_emotion_norm) \n",
        "\n",
        "  # Scaling Appraised Intensities to give final emotion values\n",
        "  for i in range(len(New_Emotion_Norms)):\n",
        "    final_emotion_intensity = (New_Emotion_Norms[i] * Appraised_Intensities[i])/Original_Emotion_Norms[i]\n",
        "    Final_Intensities_Generated.append(final_emotion_intensity)  \n",
        "  \n",
        "  final_emp_outcomes.append(Final_Intensities_Generated)\n",
        "  # print(\"Final Emotion Intensities Generated : \")\n",
        "  # print(Final_Intensities_Generated)\n"
      ],
      "execution_count": null,
      "outputs": []
    },
    {
      "cell_type": "code",
      "metadata": {
        "colab": {
          "base_uri": "https://localhost:8080/"
        },
        "id": "Z8xGkTo9PZ9E",
        "outputId": "72774470-dc5e-4310-f056-86b26d533d54"
      },
      "source": [
        "average_MAE = 0\n",
        "\n",
        "# Dimension value to calculate average_MAE\n",
        "\n",
        "# Happy           : 0\n",
        "# Sad             : 1\n",
        "# Anger           : 2\n",
        "# Disgust         : 3\n",
        "# Fear            : 4\n",
        "# Content         : 5\n",
        "# Disappointment  : 6\n",
        "\n",
        "for x in range(len(final_emp_outcomes)):\n",
        "  average_MAE += abs(final_emp_outcomes[x][6] - emotion_data_test_arr[x][6])\n",
        "\n",
        "average_MAE = average_MAE/len(final_emp_outcomes)\n",
        "\n",
        "print(average_MAE)"
      ],
      "execution_count": null,
      "outputs": [
        {
          "output_type": "stream",
          "name": "stdout",
          "text": [
            "0.13735747094028544\n"
          ]
        }
      ]
    },
    {
      "cell_type": "code",
      "metadata": {
        "id": "JKE8f1kflhqs"
      },
      "source": [
        "print(sampled_data)"
      ],
      "execution_count": null,
      "outputs": []
    },
    {
      "cell_type": "code",
      "metadata": {
        "id": "ui8sWyrLqZ47"
      },
      "source": [
        "targets = [0.625, 0.875, 0.625, 0.625, 1]"
      ],
      "execution_count": null,
      "outputs": []
    },
    {
      "cell_type": "code",
      "metadata": {
        "id": "3veE9feXqWrn"
      },
      "source": [
        "print(sampled_target)"
      ],
      "execution_count": null,
      "outputs": []
    },
    {
      "cell_type": "code",
      "metadata": {
        "id": "C0iGoAMKf1P1",
        "colab": {
          "base_uri": "https://localhost:8080/"
        },
        "outputId": "3a3083bb-d6ea-45b2-83fc-458726a0fb71"
      },
      "source": [
        "\n",
        "# make a prediction for new data\n",
        "row = [0.20,     0.60,     0.90,   0.33,   0.20,   0.47,  0.90,     0.47,      0.960]\n",
        "# row = [0.50, 0.75, 0.9, 0.30, 0.52, 0.18, 0.5, 0.30, 0.921]\n",
        "newX = asarray([row])\n",
        "yhat = model.predict(newX)\n",
        "prediction = yhat[0]\n",
        "print('Predicted: %s' % yhat[0])"
      ],
      "execution_count": null,
      "outputs": [
        {
          "output_type": "stream",
          "name": "stdout",
          "text": [
            "Predicted: [ 9.7613013e-01 -5.9173256e-04 -1.0264970e-02 -4.9635535e-03\n",
            " -4.5053903e-03  9.1708279e-01  6.1339512e-04]\n"
          ]
        }
      ]
    },
    {
      "cell_type": "markdown",
      "metadata": {
        "id": "a-jSnDkPSpX8"
      },
      "source": [
        ""
      ]
    },
    {
      "cell_type": "code",
      "metadata": {
        "colab": {
          "base_uri": "https://localhost:8080/"
        },
        "id": "TqKMPdxcf1Ns",
        "outputId": "0aeac781-1ef3-4be4-ad25-cca5e90006c2"
      },
      "source": [
        "# Defining a character's personality based on the Big Five Personality Model\n",
        "Openness = 0.4\n",
        "Conscientiousness = 0.8\n",
        "Extraversion = 0.6\n",
        "Agreeableness = 0.3\n",
        "Neuroticism = 0.4\n",
        "\n",
        "# Since, we do not have information about the participants in the trial. We assume that on an average the peope were in a slightly relaxed default mood.\n",
        "# The personality traits chosen are hence so. \n",
        "\n",
        "# Calculating default mood in the PAD space based on the above peronality characteristics\n",
        "Pleasure  = (0.21 * Extraversion) + (0.59 * Agreeableness)        + (0.19 * Neuroticism)\n",
        "Arousal   = (0.15 * Openness)     + (0.30 * Agreeableness)        - (0.57 * Neuroticism)\n",
        "Dominance = (0.25 * Openness)     + (0.17 * Conscientiousness)    + (0.60 * Extraversion)     - (0.32 * Agreeableness) \n",
        "\n",
        "DefaultMood_PAD = [Pleasure, Arousal, Dominance]\n",
        "\n",
        "print(\"Default Mood : \", DefaultMood_PAD)"
      ],
      "execution_count": null,
      "outputs": [
        {
          "output_type": "stream",
          "name": "stdout",
          "text": [
            "Default Mood :  [0.379, -0.07799999999999999, 0.5]\n"
          ]
        }
      ]
    },
    {
      "cell_type": "code",
      "metadata": {
        "id": "NkbOhw9SHe7L"
      },
      "source": [
        "# PAD Mappings for Emotions\n",
        "# Mappings were not available for all emotions in the dataset. The emotions which were nearest in meaning and had mappings available were thus chosen.\n",
        "# Except Surprise, we could find alternatives for every other emotion. As a result Surprise was dropped from the dataset and thus the predictions.\n",
        "\n",
        "# Emotion (Dataset) <-------> Mapped Emotion in PAD Space\n",
        "# Happy             -         Joy\n",
        "# Sad               -         Remorse\n",
        "# Anger             -         Anger\n",
        "# Disgust           -         Shame\n",
        "# Fear              -         Fear\n",
        "# Content           -         Gratification\n",
        "# Disappointment    -         Disappointment\n",
        "\n",
        "Happy_Intensity              = prediction[0] if (prediction[0] > 0) else 0.0\n",
        "Sad_Intensity                = prediction[1] if (prediction[1] > 0) else 0.0\n",
        "Anger_Intensity              = prediction[2] if (prediction[2] > 0) else 0.0\n",
        "Disgust_Intensity            = prediction[3] if (prediction[3] > 0) else 0.0\n",
        "Fear_Intensity               = prediction[4] if (prediction[4] > 0) else 0.0\n",
        "Content_Intensity            = prediction[5] if (prediction[5] > 0) else 0.0\n",
        "Disappointment_Intensity     = prediction[6] if (prediction[6] > 0) else 0.0\n",
        "\n",
        "Happy_PAD           = [0.4, 0.2, -0.3]\n",
        "Sad_PAD             = [-0.3, 0.1, -0.6]\n",
        "Anger_PAD           = [-0.51, 0.59, 0.25]\n",
        "Disgust_PAD         = [-0.3, 0.1, -0.6]\n",
        "Fear_PAD            = [-0.64, 0.60, -0.43]\n",
        "Content_PAD         = [0.6, 0.5, 0.4]\n",
        "Disappointment_PAD  = [-0.3, 0.1, -0.4]\n",
        "\n",
        "Appraised_Intensities = [Happy_Intensity, Sad_Intensity, Anger_Intensity, Disgust_Intensity, Fear_Intensity, Content_Intensity, Disappointment_Intensity]\n",
        "Mapped_Emotions       = [Happy_PAD, Sad_PAD, Anger_PAD, Disgust_PAD, Fear_PAD, Content_PAD, Disappointment_PAD]"
      ],
      "execution_count": null,
      "outputs": []
    },
    {
      "cell_type": "code",
      "metadata": {
        "colab": {
          "base_uri": "https://localhost:8080/"
        },
        "id": "7DOKAYxvHe26",
        "outputId": "aa5e97c9-0aa1-4ebf-e270-1c66bd9a4f5b"
      },
      "source": [
        "# Calculating Virtual Emotion Centre\n",
        "Summation_Intensities = Happy_Intensity + Sad_Intensity + Anger_Intensity + Disgust_Intensity + Fear_Intensity + Content_Intensity + Disappointment_Intensity\n",
        "\n",
        "VEC_P   = ( (Happy_Intensity * Happy_PAD[0]) + (Sad_Intensity * Sad_PAD[0]) + (Anger_Intensity * Anger_PAD[0]) + (Disgust_Intensity * Disgust_PAD[0]) + (Fear_Intensity * Fear_PAD[0]) + (Content_Intensity * Content_PAD[0]) + (Disappointment_Intensity * Disappointment_PAD[0])) / Summation_Intensities\n",
        "VEC_A   = ( (Happy_Intensity * Happy_PAD[1]) + (Sad_Intensity * Sad_PAD[1]) + (Anger_Intensity * Anger_PAD[1]) + (Disgust_Intensity * Disgust_PAD[1]) + (Fear_Intensity * Fear_PAD[1]) + (Content_Intensity * Content_PAD[1]) + (Disappointment_Intensity * Disappointment_PAD[1])) / Summation_Intensities\n",
        "VEC_D   = ( (Happy_Intensity * Happy_PAD[2]) + (Sad_Intensity * Sad_PAD[2]) + (Anger_Intensity * Anger_PAD[2]) + (Disgust_Intensity * Disgust_PAD[2]) + (Fear_Intensity * Fear_PAD[2]) + (Content_Intensity * Content_PAD[2]) + (Disappointment_Intensity * Disappointment_PAD[2])) / Summation_Intensities\n",
        "\n",
        "VEC_PAD = [VEC_P, VEC_A, VEC_D]\n",
        "print(\"Virtual Emotion Centre : \", VEC_PAD)"
      ],
      "execution_count": null,
      "outputs": [
        {
          "output_type": "stream",
          "name": "stdout",
          "text": [
            "Virtual Emotion Centre :  [0.49662300064054316, 0.34524219832751024, 0.03894164835951643]\n"
          ]
        }
      ]
    },
    {
      "cell_type": "code",
      "metadata": {
        "colab": {
          "base_uri": "https://localhost:8080/"
        },
        "id": "g2JtrDIIHe0r",
        "outputId": "2d8e491a-0d70-45af-b9ba-91f94579c8d5"
      },
      "source": [
        "print(Summation_Intensities/7.0)"
      ],
      "execution_count": null,
      "outputs": [
        {
          "output_type": "stream",
          "name": "stdout",
          "text": [
            "0.27054661565593313\n"
          ]
        }
      ]
    },
    {
      "cell_type": "code",
      "metadata": {
        "colab": {
          "base_uri": "https://localhost:8080/"
        },
        "id": "KRbtNg87Heik",
        "outputId": "95a67240-4daf-4cdf-805a-dc8e424764f1"
      },
      "source": [
        "import math\n",
        "print(math.sqrt(math.pow(VEC_P, 2) + math.pow(VEC_A, 2) + math.pow(VEC_D, 2)))"
      ],
      "execution_count": null,
      "outputs": [
        {
          "output_type": "stream",
          "name": "stdout",
          "text": [
            "0.6060883040021355\n"
          ]
        }
      ]
    },
    {
      "cell_type": "code",
      "metadata": {
        "colab": {
          "base_uri": "https://localhost:8080/"
        },
        "id": "WeHPbSUW1uAZ",
        "outputId": "6466c323-fd0b-47da-cddd-cec4d4fa4dea"
      },
      "source": [
        "print(math.sqrt(math.pow(Happy_Intensity * Happy_PAD[0], 2) + math.pow(Happy_Intensity * Happy_PAD[1], 2) + math.pow(Happy_Intensity * Happy_PAD[2], 2)))"
      ],
      "execution_count": null,
      "outputs": [
        {
          "output_type": "stream",
          "name": "stdout",
          "text": [
            "0.5256621611987398\n"
          ]
        }
      ]
    },
    {
      "cell_type": "code",
      "metadata": {
        "colab": {
          "base_uri": "https://localhost:8080/"
        },
        "id": "z-ZwpAA3EWTC",
        "outputId": "68554003-fd76-4753-d36b-c7660b08c7c0"
      },
      "source": [
        "print(math.sqrt(math.pow(VEC_P - DefaultMood_PAD[0], 2) + math.pow(VEC_A - DefaultMood_PAD[1], 2) + math.pow(VEC_D - DefaultMood_PAD[2], 2)))"
      ],
      "execution_count": null,
      "outputs": [
        {
          "output_type": "stream",
          "name": "stdout",
          "text": [
            "0.6368233132841703\n"
          ]
        }
      ]
    },
    {
      "cell_type": "code",
      "metadata": {
        "id": "HcC4zpIbEh4L"
      },
      "source": [
        "def mood_push_and_pull(VEC_PAD, CurrentMood_PAD, push_intensity):\n",
        "  \n",
        "  dist_between_VEC_Current  = math.sqrt(math.pow(VEC_P - CurrentMood_PAD[0], 2) + math.pow(VEC_A - CurrentMood_PAD[1], 2) + math.pow(VEC_D - CurrentMood_PAD[2], 2))\n",
        "  scale = push_intensity/dist_between_VEC_Current\n",
        "\n",
        "  if (((VEC_PAD[0] * CurrentMood_PAD[0]) > 0) and ((VEC_PAD[1] * CurrentMood_PAD[1]) > 0) and ((VEC_PAD[2] * CurrentMood_PAD[2]) > 0) ):\n",
        "    if (VEC_PAD[0] >= 0):\n",
        "      if (CurrentMood_PAD[0] < VEC_PAD[0]):\n",
        "        NewMood_P = CurrentMood_PAD[0] + (scale * (VEC_PAD[0] - CurrentMood_PAD[0]))\n",
        "        NewMood_A = CurrentMood_PAD[1] + (scale * (VEC_PAD[1] - CurrentMood_PAD[1]))\n",
        "        NewMood_D = CurrentMood_PAD[2] + (scale * (VEC_PAD[2] - CurrentMood_PAD[2]))\n",
        "      else:\n",
        "        NewMood_P = CurrentMood_PAD[0] + (scale * (CurrentMood_PAD[0] - VEC_PAD[0]))\n",
        "        NewMood_A = CurrentMood_PAD[1] + (scale * (CurrentMood_PAD[1] - VEC_PAD[1]))\n",
        "        NewMood_D = CurrentMood_PAD[2] + (scale * (CurrentMood_PAD[2] - VEC_PAD[2]))\n",
        "    else:\n",
        "      if (CurrentMood_PAD[0] > VEC_PAD[0]):\n",
        "        NewMood_P = CurrentMood_PAD[0] + (scale * (VEC_PAD[0] - CurrentMood_PAD[0]))\n",
        "        NewMood_A = CurrentMood_PAD[1] + (scale * (VEC_PAD[1] - CurrentMood_PAD[1]))\n",
        "        NewMood_D = CurrentMood_PAD[2] + (scale * (VEC_PAD[2] - CurrentMood_PAD[2]))\n",
        "      else:\n",
        "        NewMood_P = CurrentMood_PAD[0] + (scale * (CurrentMood_PAD[0] - VEC_PAD[0]))\n",
        "        NewMood_A = CurrentMood_PAD[1] + (scale * (CurrentMood_PAD[1] - VEC_PAD[1]))\n",
        "        NewMood_D = CurrentMood_PAD[2] + (scale * (CurrentMood_PAD[2] - VEC_PAD[2]))\n",
        "  else :   \n",
        "        NewMood_P = CurrentMood_PAD[0] + (scale * (VEC_PAD[0] - CurrentMood_PAD[0]))\n",
        "        NewMood_A = CurrentMood_PAD[1] + (scale * (VEC_PAD[1] - CurrentMood_PAD[1]))\n",
        "        NewMood_D = CurrentMood_PAD[2] + (scale * (VEC_PAD[2] - CurrentMood_PAD[2]))\n",
        "\n",
        "  NewMood_PAD = [NewMood_P, NewMood_A, NewMood_D]\n",
        "  return NewMood_PAD"
      ],
      "execution_count": null,
      "outputs": []
    },
    {
      "cell_type": "code",
      "metadata": {
        "id": "UW1GAQOsy6Iv"
      },
      "source": [
        "CurrentMood_PAD = DefaultMood_PAD\n",
        "push_intensity = Summation_Intensities/7.0\n",
        "NewMood_PAD = mood_push_and_pull(VEC_PAD, CurrentMood_PAD, push_intensity)"
      ],
      "execution_count": null,
      "outputs": []
    },
    {
      "cell_type": "code",
      "metadata": {
        "colab": {
          "base_uri": "https://localhost:8080/"
        },
        "id": "KI6KXls2y6Ex",
        "outputId": "4d74454d-18d7-439b-dbcc-7a6ba2051251"
      },
      "source": [
        "print(NewMood_PAD)"
      ],
      "execution_count": null,
      "outputs": [
        {
          "output_type": "stream",
          "name": "stdout",
          "text": [
            "[0.4289706968679936, 0.1018092845718239, 0.30412498403529065]\n"
          ]
        }
      ]
    },
    {
      "cell_type": "code",
      "metadata": {
        "id": "9v0WjCO9y6DP"
      },
      "source": [
        "P_Val = 1 if (Happy_PAD[0] * NewMood_PAD[0]) > 0 else -1\n",
        "A_Val = 1 if (Happy_PAD[1] * NewMood_PAD[1]) > 0 else -1\n",
        "D_Val = 1 if (Happy_PAD[2] * NewMood_PAD[2]) > 0 else -1\n",
        "\n",
        "New_Happy_P = Happy_PAD[0] * (1 + (0.25 * P_Val * NewMood_PAD[0]))\n",
        "New_Happy_A = Happy_PAD[1] * (1 + (0.25 * A_Val * NewMood_PAD[1]))\n",
        "New_Happy_D = Happy_PAD[2] * (1 + (0.25 * D_Val * NewMood_PAD[2]))\n",
        "\n",
        "New_Happy_PAD = [New_Happy_P, New_Happy_A, New_Happy_D]\n"
      ],
      "execution_count": null,
      "outputs": []
    },
    {
      "cell_type": "code",
      "metadata": {
        "colab": {
          "base_uri": "https://localhost:8080/"
        },
        "id": "FzpQlgggy6Az",
        "outputId": "0602537f-9448-4bb0-88b0-9f3ff0977bc4"
      },
      "source": [
        "print(math.sqrt(math.pow(New_Happy_PAD[0], 2) + math.pow(New_Happy_PAD[1], 2) + math.pow(New_Happy_PAD[2], 2)))"
      ],
      "execution_count": null,
      "outputs": [
        {
          "output_type": "stream",
          "name": "stdout",
          "text": [
            "0.5612972083543027\n"
          ]
        }
      ]
    },
    {
      "cell_type": "code",
      "metadata": {
        "colab": {
          "base_uri": "https://localhost:8080/"
        },
        "id": "gSbZ0FKXRQiz",
        "outputId": "dd1912b8-3700-4a5e-c89b-17508592e5f6"
      },
      "source": [
        "print(math.sqrt(math.pow(Happy_PAD[0], 2) + math.pow(Happy_PAD[1], 2) + math.pow(Happy_PAD[2], 2)))"
      ],
      "execution_count": null,
      "outputs": [
        {
          "output_type": "stream",
          "name": "stdout",
          "text": [
            "0.5385164807134505\n"
          ]
        }
      ]
    },
    {
      "cell_type": "code",
      "metadata": {
        "colab": {
          "base_uri": "https://localhost:8080/"
        },
        "id": "07oZgterRJ8P",
        "outputId": "4a7195c6-a72d-4d87-b864-93eb90d723ea"
      },
      "source": [
        "print(Happy_Intensity)"
      ],
      "execution_count": null,
      "outputs": [
        {
          "output_type": "stream",
          "name": "stdout",
          "text": [
            "0.9761301\n"
          ]
        }
      ]
    },
    {
      "cell_type": "code",
      "metadata": {
        "colab": {
          "base_uri": "https://localhost:8080/"
        },
        "id": "z9m6CdBRRcZQ",
        "outputId": "6fbddd54-b355-4aab-9512-85433ef8c565"
      },
      "source": [
        "print(0.548 * (0.468/0.538))"
      ],
      "execution_count": null,
      "outputs": [
        {
          "output_type": "stream",
          "name": "stdout",
          "text": [
            "0.47669888475836436\n"
          ]
        }
      ]
    },
    {
      "cell_type": "code",
      "metadata": {
        "id": "z0rYcOGRMspY"
      },
      "source": [
        "New_Generated_Emotions = []\n",
        "\n",
        "for emotion in Mapped_Emotions:\n",
        "  P_Val = 1 if (emotion[0] * NewMood_PAD[0]) > 0 else -1\n",
        "  A_Val = 1 if (emotion[1] * NewMood_PAD[1]) > 0 else -1\n",
        "  D_Val = 1 if (emotion[2] * NewMood_PAD[2]) > 0 else -1\n",
        "\n",
        "  New_Emotion_P = emotion[0] * (1 + (0.25 * P_Val * NewMood_PAD[0]))\n",
        "  New_Emotion_A = emotion[1] * (1 + (0.25 * A_Val * NewMood_PAD[1]))\n",
        "  New_Emotion_D = emotion[2] * (1 + (0.25 * D_Val * NewMood_PAD[2]))\n",
        "\n",
        "  New_Emotion_PAD = [New_Emotion_P, New_Emotion_A, New_Emotion_D]\n",
        "  New_Generated_Emotions.append(New_Emotion_PAD)"
      ],
      "execution_count": null,
      "outputs": []
    },
    {
      "cell_type": "code",
      "metadata": {
        "id": "OMRngF2DOO7C"
      },
      "source": [
        "Final_Intensities_Generated = []\n",
        "\n",
        "Original_Emotion_Norms = []\n",
        "New_Emotion_Norms =[]\n",
        "\n",
        "for emotion in Mapped_Emotions:\n",
        "  emotion_norm = math.sqrt(math.pow(emotion[0], 2) + math.pow(emotion[1], 2) + math.pow(emotion[2], 2))\n",
        "  Original_Emotion_Norms.append(emotion_norm)\n",
        "\n",
        "for new_emotion in New_Generated_Emotions:\n",
        "  new_emotion_norm  = math.sqrt(math.pow(new_emotion[0], 2) + math.pow(new_emotion[1], 2) + math.pow(new_emotion[2], 2))\n",
        "  New_Emotion_Norms.append(new_emotion_norm) \n",
        "\n",
        "for i in range(len(New_Emotion_Norms)):\n",
        "  final_emotion_intensity = (New_Emotion_Norms[i] * Appraised_Intensities[i])/Original_Emotion_Norms[i]\n",
        "  Final_Intensities_Generated.append(final_emotion_intensity)  "
      ],
      "execution_count": null,
      "outputs": []
    },
    {
      "cell_type": "code",
      "metadata": {
        "colab": {
          "base_uri": "https://localhost:8080/"
        },
        "id": "_8OT4XDnP_XE",
        "outputId": "789a6afd-310d-4cea-e27c-ff2af9f2593c"
      },
      "source": [
        "print(\"Final Emotion Intensities Generated : \")\n",
        "print(Final_Intensities_Generated)\n",
        "\n",
        "# 0.625  0.000  0.000     0.25   0.0    0.625   0.375"
      ],
      "execution_count": null,
      "outputs": [
        {
          "output_type": "stream",
          "name": "stdout",
          "text": [
            "Final Emotion Intensities Generated : \n",
            "[1.0174231159253175, 0.0, 0.0, 0.0, 0.0, 0.9856794353914962, 0.0005627543210580644]\n"
          ]
        }
      ]
    },
    {
      "cell_type": "code",
      "metadata": {
        "colab": {
          "base_uri": "https://localhost:8080/"
        },
        "id": "8vTGRCBcdKvv",
        "outputId": "61b54a93-c658-4c9b-fa47-62dd1cb06ec4"
      },
      "source": [
        "Final_Happy_Comparison = [0.504, 0.97, 0.498, 0.516, 0.987]\n",
        "average_MAE = 0\n",
        "\n",
        "for x in range(len(Final_Happy_Comparison)):\n",
        "  average_MAE += abs(Final_Happy_Comparison[x] - targets[x])\n",
        "\n",
        "average_MAE = average_MAE/5\n",
        "\n",
        "print(average_MAE)"
      ],
      "execution_count": null,
      "outputs": [
        {
          "output_type": "stream",
          "name": "stdout",
          "text": [
            "0.093\n"
          ]
        }
      ]
    },
    {
      "cell_type": "code",
      "metadata": {
        "id": "bYo0ia8p3GUH"
      },
      "source": [
        "P_Val = 1 if (Disappointment_PAD[0] * NewMood_PAD[0]) > 0 else -1\n",
        "A_Val = 1 if (Disappointment_PAD[1] * NewMood_PAD[1]) > 0 else -1\n",
        "D_Val = 1 if (Disappointment_PAD[2] * NewMood_PAD[2]) > 0 else -1\n",
        "\n",
        "New_Disappointment_P = Disappointment_PAD[0] * (1 + (0.25 * P_Val * NewMood_PAD[0]))\n",
        "New_Disappointment_A = Disappointment_PAD[1] * (1 + (0.25 * A_Val * NewMood_PAD[1]))\n",
        "New_Disappointment_D = Disappointment_PAD[2] * (1 + (0.25 * D_Val * NewMood_PAD[2]))\n",
        "\n",
        "New_Disappointment_PAD = [New_Disappointment_P, New_Disappointment_A, New_Disappointment_D]\n"
      ],
      "execution_count": null,
      "outputs": []
    },
    {
      "cell_type": "code",
      "metadata": {
        "colab": {
          "base_uri": "https://localhost:8080/"
        },
        "id": "WTRsKog2MuGz",
        "outputId": "dbbca605-8654-4d32-8124-799e41182c29"
      },
      "source": [
        "print(\"New_Emotion_PAD norm\")\n",
        "print(math.sqrt(math.pow(New_Disappointment_PAD[0], 2) + math.pow(New_Disappointment_PAD[1], 2) + math.pow(New_Disappointment_PAD[2], 2)))"
      ],
      "execution_count": null,
      "outputs": [
        {
          "name": "stdout",
          "output_type": "stream",
          "text": [
            "New_Emotion_PAD norm\n",
            "0.47838931111219074\n"
          ]
        }
      ]
    },
    {
      "cell_type": "code",
      "metadata": {
        "colab": {
          "base_uri": "https://localhost:8080/"
        },
        "id": "Qs3-1EHvRw5L",
        "outputId": "194e7810-34f6-450d-8c0b-b84160eaf7bc"
      },
      "source": [
        "print(\"Original_Emotion_PAD norm\")\n",
        "print(math.sqrt(math.pow(Disappointment_PAD[0], 2) + math.pow(Disappointment_PAD[1], 2) + math.pow(Disappointment_PAD[2], 2)))"
      ],
      "execution_count": null,
      "outputs": [
        {
          "name": "stdout",
          "output_type": "stream",
          "text": [
            "Original_Emotion_PAD norm\n",
            "0.5099019513592785\n"
          ]
        }
      ]
    },
    {
      "cell_type": "code",
      "metadata": {
        "colab": {
          "base_uri": "https://localhost:8080/"
        },
        "id": "phl-SaI4MyoP",
        "outputId": "5e7bf5a2-be10-4dc2-b50d-2e09b51cecba"
      },
      "source": [
        "print(\"Intensity computed from appraisal\")\n",
        "print(Disappointment_Intensity)"
      ],
      "execution_count": null,
      "outputs": [
        {
          "name": "stdout",
          "output_type": "stream",
          "text": [
            "Intensity computed from appraisal\n",
            "0.5288515\n"
          ]
        }
      ]
    },
    {
      "cell_type": "code",
      "metadata": {
        "colab": {
          "base_uri": "https://localhost:8080/"
        },
        "id": "_rtup5yKM9Oa",
        "outputId": "e9dabed7-a4b8-4a96-a38d-32f64ce98cbc"
      },
      "source": [
        "print(\"Final Intensity\")\n",
        "print(0.47 * (0.53/0.50))"
      ],
      "execution_count": null,
      "outputs": [
        {
          "name": "stdout",
          "output_type": "stream",
          "text": [
            "Final Intensity\n",
            "0.4982\n"
          ]
        }
      ]
    },
    {
      "cell_type": "code",
      "metadata": {
        "id": "MFpe-_1yR9zm"
      },
      "source": [
        "# -------------------------------------------- Extra (Rough Cells) [To be ignored] -----------------------------------------------------\n",
        "# --------------------------------------------------------------------------------------------------------------------------------------\n",
        "# --------------------------------------------------------------------------------------------------------------------------------------\n",
        "# --------------------------------------------------------------------------------------------------------------------------------------\n",
        "# --------------------------------------------------------------------------------------------------------------------------------------\n",
        "# --------------------------------------------------------------------------------------------------------------------------------------"
      ],
      "execution_count": null,
      "outputs": []
    },
    {
      "cell_type": "code",
      "metadata": {
        "colab": {
          "base_uri": "https://localhost:8080/"
        },
        "id": "wBUwsU6cQw0Q",
        "outputId": "22cf5d9d-d11d-434a-dbce-760187ffba69"
      },
      "source": [
        "!pip install torch torchvision pyro-ppl\n",
        "\n",
        "#import os\n",
        "import numpy as np\n",
        "import pandas as pd\n",
        "import matplotlib.pyplot as plt\n",
        "\n",
        "import torch\n",
        "import torch.nn as nn\n",
        "\n",
        "import pyro\n",
        "import pyro.distributions as dist\n",
        "from pyro.distributions import Normal\n",
        "from pyro.infer import SVI, Trace_ELBO\n",
        "from pyro.optim import Adam\n",
        "\n",
        "print(\"Currently using Pyro version: \" + pyro.__version__)"
      ],
      "execution_count": null,
      "outputs": [
        {
          "name": "stdout",
          "output_type": "stream",
          "text": [
            "Requirement already satisfied: torch in /usr/local/lib/python3.7/dist-packages (1.9.0+cu102)\n",
            "Requirement already satisfied: torchvision in /usr/local/lib/python3.7/dist-packages (0.10.0+cu102)\n",
            "Collecting pyro-ppl\n",
            "  Downloading pyro_ppl-1.7.0-py3-none-any.whl (678 kB)\n",
            "\u001b[K     |████████████████████████████████| 678 kB 15.7 MB/s \n",
            "\u001b[?25hRequirement already satisfied: typing-extensions in /usr/local/lib/python3.7/dist-packages (from torch) (3.7.4.3)\n",
            "Requirement already satisfied: pillow>=5.3.0 in /usr/local/lib/python3.7/dist-packages (from torchvision) (7.1.2)\n",
            "Requirement already satisfied: numpy in /usr/local/lib/python3.7/dist-packages (from torchvision) (1.19.5)\n",
            "Collecting pyro-api>=0.1.1\n",
            "  Downloading pyro_api-0.1.2-py3-none-any.whl (11 kB)\n",
            "Requirement already satisfied: tqdm>=4.36 in /usr/local/lib/python3.7/dist-packages (from pyro-ppl) (4.41.1)\n",
            "Requirement already satisfied: opt-einsum>=2.3.2 in /usr/local/lib/python3.7/dist-packages (from pyro-ppl) (3.3.0)\n",
            "Installing collected packages: pyro-api, pyro-ppl\n",
            "Successfully installed pyro-api-0.1.2 pyro-ppl-1.7.0\n",
            "Currently using Pyro version: 1.7.0\n"
          ]
        }
      ]
    },
    {
      "cell_type": "code",
      "metadata": {
        "colab": {
          "base_uri": "https://localhost:8080/"
        },
        "id": "07Lt6wVjot-k",
        "outputId": "c54f5311-da64-4c88-eb89-03eb02396dd8"
      },
      "source": [
        "# data location\n",
        "#dataset_path = os.path.join(os.path.abspath('..'), \"CognitionData\", \"data_wheelOnly.csv\")\n",
        "dataset_path = \"https://desmond-ong.github.io/pplAffComp/CognitionData/data_wheelOnly.csv\"\n",
        "\n",
        "OUTCOME_VAR_NAMES = [\"payoff1\", \"payoff2\", \"payoff3\", \"prob1\", \"prob2\", \"prob3\", \"win\", \"winProb\", \"angleProp\"]\n",
        "EMOTION_VAR_NAMES = [\"happy\", \"sad\", \"anger\", \"surprise\", \"disgust\", \"fear\", \"content\", \"disapp\"]\n",
        "OUTCOME_VAR_DIM = len(OUTCOME_VAR_NAMES)\n",
        "EMOTION_VAR_DIM = len(EMOTION_VAR_NAMES)\n",
        "\n",
        "def load_outcome_emotion_dataset(csv_file, normalize_values=True, preview_datafile=False):\n",
        "    data_readin = pd.read_csv(csv_file)\n",
        "    outcome_data = data_readin.loc[:,OUTCOME_VAR_NAMES]\n",
        "    if normalize_values:\n",
        "        ####\n",
        "        ## payoff1, payoff2, payoff3 and win are between 0 and 100\n",
        "        ## need to normalize to [0,1] to match the rest of the variables,\n",
        "        ## by dividing payoff1, payoff2, payoff3 and win by 100\n",
        "        ####\n",
        "        outcome_data.loc[:,\"payoff1\"] = outcome_data.loc[:,\"payoff1\"]/100\n",
        "        outcome_data.loc[:,\"payoff2\"] = outcome_data.loc[:,\"payoff2\"]/100\n",
        "        outcome_data.loc[:,\"payoff3\"] = outcome_data.loc[:,\"payoff3\"]/100\n",
        "        outcome_data.loc[:,\"win\"]     = outcome_data.loc[:,\"win\"]/100\n",
        "    outcome_data_tensor = torch.tensor(outcome_data.values).type(torch.Tensor)\n",
        "    \n",
        "    emotion_data = data_readin.loc[:,EMOTION_VAR_NAMES]\n",
        "    if normalize_values:\n",
        "        ## note that emotions are transformed from a 9 point Likert to [0,1] via emo <- (emo-1)/8\n",
        "        emotion_data   = (emotion_data-1)/8\n",
        "    emotion_data_tensor = torch.tensor(emotion_data.values).type(torch.Tensor)\n",
        "    \n",
        "    if preview_datafile:\n",
        "        print(\"Preview of first 3 rows:\")\n",
        "        print(outcome_data.loc[0:2,:])\n",
        "        print(emotion_data.loc[0:2,:])\n",
        "    \n",
        "    data = torch.cat((outcome_data_tensor, emotion_data_tensor), 1)\n",
        "    # return data\n",
        "    return outcome_data, emotion_data\n",
        "\n",
        "\n",
        "# reads in datafile.\n",
        "print(\"Reading in dataset...\")\n",
        "# outcome_emotion_dataset = load_outcome_emotion_dataset(csv_file=dataset_path, preview_datafile=True)\n",
        "outcome_data, emotion_data = load_outcome_emotion_dataset(csv_file=dataset_path, preview_datafile=True)\n",
        "\n",
        "# outcome_data = outcome_emotion_dataset[:, :(OUTCOME_VAR_DIM)]\n",
        "# emotion_data = outcome_emotion_dataset[:, (OUTCOME_VAR_DIM):]\n",
        "\n",
        "print(\"OED : \", outcome_data.shape)\n",
        "\n",
        "# N_samples = outcome_emotion_dataset.shape[0]\n",
        "\n",
        "# print(\"Shape of dataset: \", outcome_emotion_dataset.shape)"
      ],
      "execution_count": null,
      "outputs": [
        {
          "name": "stdout",
          "output_type": "stream",
          "text": [
            "Reading in dataset...\n",
            "Preview of first 3 rows:\n",
            "   payoff1  payoff2  payoff3  prob1  prob2  prob3  win  winProb  angleProp\n",
            "0     0.50     0.75      0.9   0.30   0.52   0.18  0.5     0.30      0.921\n",
            "1     0.15     0.70      0.8   0.45   0.29   0.26  0.8     0.26      0.873\n",
            "2     0.50     0.75      0.9   0.30   0.52   0.18  0.5     0.30      0.467\n",
            "   happy    sad  anger  surprise  disgust  fear  content  disapp\n",
            "0  0.625  0.000  0.000     0.625     0.25   0.0    0.625   0.375\n",
            "1  0.875  0.000  0.000     1.000     0.00   0.0    0.000   0.000\n",
            "2  0.625  0.125  0.125     0.250     0.00   0.0    0.250   0.500\n",
            "OED :  (1541, 9)\n"
          ]
        }
      ]
    },
    {
      "cell_type": "code",
      "metadata": {
        "id": "SDs9Q4SutKqs"
      },
      "source": [
        "from keras.models import Sequential\n",
        "from keras.layers import Dense\n",
        "from numpy import asarray"
      ],
      "execution_count": null,
      "outputs": []
    },
    {
      "cell_type": "code",
      "metadata": {
        "id": "OwVfCYjovsfk"
      },
      "source": [
        "def get_model(n_inputs, n_outputs):\n",
        "  model = Sequential()\n",
        "  model.add(Dense(320, input_dim=n_inputs, kernel_initializer='he_uniform', activation='relu'))\n",
        "  model.add(Dense(160, input_dim=320, kernel_initializer='he_uniform', activation='relu'))\n",
        "  model.add(Dense(80, input_dim=160, kernel_initializer='he_uniform', activation='relu'))\n",
        "  model.add(Dense(40, input_dim=80, kernel_initializer='he_uniform', activation='relu'))\n",
        "  model.add(Dense(n_outputs))\n",
        "  model.compile(loss='mae', optimizer='adam')\n",
        "  return model"
      ],
      "execution_count": null,
      "outputs": []
    },
    {
      "cell_type": "code",
      "metadata": {
        "id": "5T7cujQGyTM4"
      },
      "source": [
        "from sklearn.model_selection import RepeatedKFold\n",
        "from numpy import mean\n",
        "from numpy import std"
      ],
      "execution_count": null,
      "outputs": []
    },
    {
      "cell_type": "code",
      "metadata": {
        "id": "WmeaIF67yCsY"
      },
      "source": [
        "def evaluate_model(X, y):\n",
        "\tresults = list()\n",
        "\tn_inputs, n_outputs = X.shape[1], y.shape[1]\n",
        "\t# define evaluation procedure\n",
        "\tcv = RepeatedKFold(n_splits=10, n_repeats=3, random_state=1)\n",
        "\t# enumerate folds\n",
        "\tfor train_ix, test_ix in cv.split(X):\n",
        "\t\t# prepare data\n",
        "    # x.iloc[list(train_index)], x.iloc[list(test_index)]\n",
        "\t\tX_train, X_test = X.iloc[list(train_ix)], X.iloc[list(test_ix)]\n",
        "\t\ty_train, y_test = y.iloc[list(train_ix)], y.iloc[list(test_ix)]\n",
        "\t\t# define model\n",
        "\t\tmodel = get_model(n_inputs, n_outputs)\n",
        "\t\t# fit modelb\n",
        "\t\tmodel.fit(X_train, y_train, verbose=0, epochs=100)\n",
        "\t\t# evaluate model on test set\n",
        "\t\tmae = model.evaluate(X_test, y_test, verbose=0)\n",
        "\t\t# store result\n",
        "\t\tprint('>%.3f' % mae)\n",
        "\t\tresults.append(mae)\n",
        "\treturn results"
      ],
      "execution_count": null,
      "outputs": []
    },
    {
      "cell_type": "code",
      "metadata": {
        "colab": {
          "base_uri": "https://localhost:8080/"
        },
        "id": "QP_9F6-HyKed",
        "outputId": "7e773aef-d415-4b4d-a699-905b3245c54f"
      },
      "source": [
        "# evaluate model\n",
        "print(outcome_data)\n",
        "results = evaluate_model(outcome_data, emotion_data)\n",
        "# summarize performance\n",
        "print('MAE: %.3f (%.3f)' % (mean(results), std(results)))"
      ],
      "execution_count": null,
      "outputs": [
        {
          "name": "stdout",
          "output_type": "stream",
          "text": [
            "      payoff1  payoff2  payoff3  prob1  prob2  prob3   win  winProb  angleProp\n",
            "0        0.50     0.75     0.90   0.30   0.52   0.18  0.50     0.30      0.921\n",
            "1        0.15     0.70     0.80   0.45   0.29   0.26  0.80     0.26      0.873\n",
            "2        0.50     0.75     0.90   0.30   0.52   0.18  0.50     0.30      0.467\n",
            "3        0.00     0.40     0.95   0.27   0.40   0.33  0.40     0.40      0.615\n",
            "4        0.20     0.60     0.90   0.33   0.20   0.47  0.90     0.47      0.960\n",
            "...       ...      ...      ...    ...    ...    ...   ...      ...        ...\n",
            "1536     0.50     0.75     0.90   0.30   0.52   0.18  0.50     0.30      0.158\n",
            "1537     0.45     0.60     0.90   0.52   0.29   0.19  0.60     0.29      0.987\n",
            "1538     0.15     0.70     0.80   0.45   0.29   0.26  0.80     0.26      0.678\n",
            "1539     0.15     0.70     0.80   0.45   0.29   0.26  0.80     0.26      0.420\n",
            "1540     0.25     0.60     1.00   0.45   0.37   0.18  0.25     0.45      0.106\n",
            "\n",
            "[1541 rows x 9 columns]\n",
            ">0.139\n",
            ">0.142\n",
            ">0.145\n",
            ">0.139\n",
            ">0.135\n",
            ">0.146\n",
            ">0.153\n",
            ">0.143\n",
            ">0.131\n",
            ">0.149\n",
            ">0.149\n",
            ">0.134\n",
            ">0.165\n",
            ">0.144\n",
            ">0.129\n",
            ">0.152\n",
            ">0.136\n",
            ">0.142\n",
            ">0.135\n",
            ">0.136\n",
            ">0.137\n",
            ">0.146\n",
            ">0.138\n",
            ">0.127\n",
            ">0.145\n",
            ">0.138\n",
            ">0.148\n",
            ">0.154\n",
            ">0.133\n",
            ">0.155\n",
            "MAE: 0.142 (0.008)\n"
          ]
        }
      ]
    },
    {
      "cell_type": "code",
      "metadata": {
        "colab": {
          "base_uri": "https://localhost:8080/"
        },
        "id": "kV8sTj7NseZ4",
        "outputId": "7033b10c-88ce-4d49-b0df-275b12eb4131"
      },
      "source": [
        "\n",
        "n_inputs, n_outputs = outcome_data.shape[1], emotion_data.shape[1]\n",
        "# get model\n",
        "model = get_model(n_inputs, n_outputs)\n",
        "# fit the model on all data\n",
        "model.fit(outcome_data, emotion_data, verbose=0, epochs=100)"
      ],
      "execution_count": null,
      "outputs": [
        {
          "data": {
            "text/plain": [
              "<keras.callbacks.History at 0x7f48921f2f50>"
            ]
          },
          "execution_count": 8,
          "metadata": {
            "tags": []
          },
          "output_type": "execute_result"
        }
      ]
    },
    {
      "cell_type": "code",
      "metadata": {
        "colab": {
          "base_uri": "https://localhost:8080/"
        },
        "id": "2U9Vk8Rwsde_",
        "outputId": "0d9776c6-5f7c-43b0-e98e-749ca5a65c61"
      },
      "source": [
        "# make a prediction for new data\n",
        "row = [0.15, 0.70, 0.8, 0.45, 0.29, 0.26, 0.8, 0.26, 0.873]\n",
        "# row = [0.50, 0.75, 0.9, 0.30, 0.52, 0.18, 0.5, 0.30, 0.921]\n",
        "newX = asarray([row])\n",
        "yhat = model.predict(newX)\n",
        "print('Predicted: %s' % yhat[0])"
      ],
      "execution_count": null,
      "outputs": [
        {
          "name": "stdout",
          "output_type": "stream",
          "text": [
            "Predicted: [ 0.9869102   0.00726712 -0.00236034  0.8195064   0.00606611 -0.00702659\n",
            "  0.8905076   0.00221627]\n"
          ]
        }
      ]
    },
    {
      "cell_type": "code",
      "metadata": {
        "id": "FEfdsx5Co9pk"
      },
      "source": [
        "# As per Ong 2015\n",
        "def compute_appraisal(outcome_data):\n",
        "    # We have simple hard-coded appraisals, for illustration\n",
        "    # This is following Ong, Zaki, & Goodman (2015)\n",
        "    # the outcome data columns are, in order:\n",
        "    # [\"payoff1\", \"payoff2\", \"payoff3\", \"prob1\", \"prob2\", \"prob3\", \"win\", \"winProb\", \"angleProp\"]\n",
        "    # the 3 appraisal variables are: \n",
        "    #     amount won (\"win\"),\n",
        "    #     Prediction Error PE = win - EV, where EV = prob1*payoff1 + prob2*payoff2 + prob3*payoff3\n",
        "    #     absolute value of PE\n",
        "    \n",
        "    # if outcome_data only has 1 observation, reshape so vectorization works\n",
        "    if(len(outcome_data.shape)==1):\n",
        "        outcome_data = outcome_data.view(1,9)\n",
        "        print(outcome_data.shape)\n",
        "    \n",
        "    # initializing appraisalVals\n",
        "    appraisalVals = torch.zeros(size=(outcome_data.shape[0],3))\n",
        "    appraisalVals[:,0] = outcome_data[:,6] # amount won\n",
        "    \n",
        "    # Expected value\n",
        "    EV = outcome_data[:,0] * outcome_data[:,3] + \\\n",
        "         outcome_data[:,1] * outcome_data[:,4] + \\\n",
        "         outcome_data[:,2] * outcome_data[:,5]\n",
        "    \n",
        "    # prediction error and absolute PE\n",
        "    appraisalVals[:,1] = appraisalVals[:,0] - EV\n",
        "    appraisalVals[:,2] = abs(appraisalVals[:,1])\n",
        "    return(appraisalVals)"
      ],
      "execution_count": null,
      "outputs": []
    },
    {
      "cell_type": "code",
      "metadata": {
        "id": "b3Hm1-IasMjl"
      },
      "source": [
        "def fit_regression_model(data):\n",
        "    # define the parameters that control the gaussian prior over the regression coeffs.\n",
        "    # mean = 0, scale = 1\n",
        "    coeff_mean_prior = torch.tensor(0.0)\n",
        "    coeff_scale_prior = torch.tensor(1.0)\n",
        "    \n",
        "    # sample b_0 (intercept) and b_1 to b_3 (regression coeffs)\n",
        "    b_0 = pyro.sample(\"b_0\", Normal(coeff_mean_prior, coeff_scale_prior))\n",
        "    b_1 = pyro.sample(\"b_1\", Normal(coeff_mean_prior, coeff_scale_prior))\n",
        "    b_2 = pyro.sample(\"b_2\", Normal(coeff_mean_prior, coeff_scale_prior))\n",
        "    b_3 = pyro.sample(\"b_3\", Normal(coeff_mean_prior, coeff_scale_prior))\n",
        "    \n",
        "    # loop over observed data\n",
        "    with pyro.plate(\"map\"):\n",
        "        outcome_data = data[:, :(OUTCOME_VAR_DIM)]\n",
        "        \n",
        "        # Here, for simplification, we are only taking one emotion variable (happy)\n",
        "        # instead of all 8 emotions\n",
        "        emotion_data = data[:, OUTCOME_VAR_DIM ]  \n",
        "        appraisal_vars = compute_appraisal(outcome_data)\n",
        "        \n",
        "        # run the regression forward\n",
        "        prediction = b_0 + b_1 * appraisal_vars[:,0] + b_2 * appraisal_vars[:,1] + b_3 * appraisal_vars[:,2]\n",
        "        # condition on the observed data\n",
        "        pyro.sample(\"obs\", Normal(prediction, 1), obs = emotion_data)\n",
        "        "
      ],
      "execution_count": null,
      "outputs": []
    },
    {
      "cell_type": "code",
      "metadata": {
        "colab": {
          "base_uri": "https://localhost:8080/",
          "height": 185
        },
        "id": "aO2bXroDhziU",
        "outputId": "79679ebf-0a7a-4c77-fa52-719a46d53ad2"
      },
      "source": [
        "emotion_data = outcome_emotion_dataset[:, (OUTCOME_VAR_DIM):]\n",
        "print(emotion_data.shape)"
      ],
      "execution_count": null,
      "outputs": [
        {
          "ename": "NameError",
          "evalue": "ignored",
          "output_type": "error",
          "traceback": [
            "\u001b[0;31m---------------------------------------------------------------------------\u001b[0m",
            "\u001b[0;31mNameError\u001b[0m                                 Traceback (most recent call last)",
            "\u001b[0;32m<ipython-input-12-9d4f08934e92>\u001b[0m in \u001b[0;36m<module>\u001b[0;34m()\u001b[0m\n\u001b[0;32m----> 1\u001b[0;31m \u001b[0memotion_data\u001b[0m \u001b[0;34m=\u001b[0m \u001b[0moutcome_emotion_dataset\u001b[0m\u001b[0;34m[\u001b[0m\u001b[0;34m:\u001b[0m\u001b[0;34m,\u001b[0m \u001b[0;34m(\u001b[0m\u001b[0mOUTCOME_VAR_DIM\u001b[0m\u001b[0;34m)\u001b[0m\u001b[0;34m:\u001b[0m\u001b[0;34m]\u001b[0m\u001b[0;34m\u001b[0m\u001b[0;34m\u001b[0m\u001b[0m\n\u001b[0m\u001b[1;32m      2\u001b[0m \u001b[0mprint\u001b[0m\u001b[0;34m(\u001b[0m\u001b[0memotion_data\u001b[0m\u001b[0;34m.\u001b[0m\u001b[0mshape\u001b[0m\u001b[0;34m)\u001b[0m\u001b[0;34m\u001b[0m\u001b[0;34m\u001b[0m\u001b[0m\n",
            "\u001b[0;31mNameError\u001b[0m: name 'outcome_emotion_dataset' is not defined"
          ]
        }
      ]
    },
    {
      "cell_type": "code",
      "metadata": {
        "id": "IyJg4fS4loUB"
      },
      "source": [
        "def fit_regression_guide(data):\n",
        "    mean_b0_param  = pyro.param(\"guide_mean_b0\",  torch.tensor(0.0))\n",
        "    scale_b0_param = pyro.param(\"guide_scale_b0\", torch.tensor(1.0))\n",
        "    mean_b1_param  = pyro.param(\"guide_mean_b1\",  torch.tensor(0.0))\n",
        "    scale_b1_param = pyro.param(\"guide_scale_b1\", torch.tensor(1.0))\n",
        "    mean_b2_param  = pyro.param(\"guide_mean_b2\",  torch.tensor(0.0))\n",
        "    scale_b2_param = pyro.param(\"guide_scale_b2\", torch.tensor(1.0))\n",
        "    mean_b3_param  = pyro.param(\"guide_mean_b3\",  torch.tensor(0.0))\n",
        "    scale_b3_param = pyro.param(\"guide_scale_b3\", torch.tensor(1.0))\n",
        "    \n",
        "    # sample coefficients from Normal(mean, scale)\n",
        "    pyro.sample(\"b_0\", Normal(mean_b0_param, scale_b0_param))\n",
        "    pyro.sample(\"b_1\", Normal(mean_b1_param, scale_b1_param))\n",
        "    pyro.sample(\"b_2\", Normal(mean_b2_param, scale_b2_param))\n",
        "    pyro.sample(\"b_3\", Normal(mean_b3_param, scale_b3_param))"
      ],
      "execution_count": null,
      "outputs": []
    },
    {
      "cell_type": "code",
      "metadata": {
        "id": "pRn5BhHTum4d"
      },
      "source": [
        "# this line clears pyro's parameter store.\n",
        "pyro.clear_param_store()\n",
        "\n",
        "num_iterations = 1000\n",
        "\n",
        "# setup the optimizer with some learning rate\n",
        "optimizer = Adam({\"lr\": 0.005})\n",
        "\n",
        "# setup the inference algorithm\n",
        "svi = SVI(fit_regression_model, fit_regression_guide, optimizer, loss=Trace_ELBO())\n",
        "\n",
        "# do gradient steps\n",
        "losses = []\n",
        "for thisIteration in range(num_iterations):\n",
        "    # calculate the loss and take a gradient step\n",
        "    thisLoss = svi.step(outcome_emotion_dataset)\n",
        "    losses.append(thisLoss)\n",
        "    if thisIteration % 100 == 0:\n",
        "        print(\"[iteration %04d] loss: %.4f\" % (thisIteration + 1, thisLoss / float(N_samples)))\n",
        "\n",
        "plt.plot(losses)\n",
        "plt.title(\"ELBO\")\n",
        "plt.xlabel(\"step\")\n",
        "plt.ylabel(\"loss\")"
      ],
      "execution_count": null,
      "outputs": []
    },
    {
      "cell_type": "code",
      "metadata": {
        "id": "_L9EsN5xwbxr"
      },
      "source": [
        "# output the learned variational parameters\n",
        "print(\"b0 ~ Normal(%.4f, %.4f)\" % (pyro.param(\"guide_mean_b0\").item(), pyro.param(\"guide_scale_b0\").item()))\n",
        "print(\"b1 ~ Normal(%.4f, %.4f)\" % (pyro.param(\"guide_mean_b1\").item(), pyro.param(\"guide_scale_b1\").item()))\n",
        "print(\"b2 ~ Normal(%.4f, %.4f)\" % (pyro.param(\"guide_mean_b2\").item(), pyro.param(\"guide_scale_b2\").item()))\n",
        "print(\"b3 ~ Normal(%.4f, %.4f)\" % (pyro.param(\"guide_mean_b3\").item(), pyro.param(\"guide_scale_b3\").item()))"
      ],
      "execution_count": null,
      "outputs": []
    },
    {
      "cell_type": "code",
      "metadata": {
        "id": "L9k1v-heJSAH"
      },
      "source": [
        "b_0 = pyro.sample(\"b_0\", Normal(pyro.param(\"guide_mean_b0\").item(), pyro.param(\"guide_scale_b0\").item()))\n",
        "b_1 = pyro.sample(\"b_1\", Normal(pyro.param(\"guide_mean_b1\").item(), pyro.param(\"guide_scale_b1\").item()))\n",
        "b_2 = pyro.sample(\"b_2\", Normal(pyro.param(\"guide_mean_b2\").item(), pyro.param(\"guide_scale_b2\").item()))\n",
        "b_3 = pyro.sample(\"b_3\", Normal(pyro.param(\"guide_mean_b3\").item(), pyro.param(\"guide_scale_b3\").item()))"
      ],
      "execution_count": null,
      "outputs": []
    },
    {
      "cell_type": "code",
      "metadata": {
        "id": "n3JLrMu9JH70"
      },
      "source": [
        "new_data = torch.tensor([0.50, 0.75, 0.9, 0.30, 0.52, 0.18, 0.5, 0.30, 0.921])\n",
        "appraised_data = compute_appraisal(new_data)\n",
        "print(appraised_data)\n",
        "new_prediction = b_0 + b_1 * appraised_data[0][0] + b_2 * appraised_data[0][1] + b_3 * appraised_data[0][2]  \n",
        "print(new_prediction)"
      ],
      "execution_count": null,
      "outputs": []
    },
    {
      "cell_type": "code",
      "metadata": {
        "id": "EcSMyzSVw-f9"
      },
      "source": [
        "## Extensions to linear regressionb"
      ],
      "execution_count": null,
      "outputs": []
    },
    {
      "cell_type": "code",
      "metadata": {
        "id": "AdNq6vUPnDR6"
      },
      "source": [
        "class appraisalRegressionModule(nn.Module):\n",
        "    def __init__(self, num_features):\n",
        "        super(appraisalRegressionModule, self).__init__()\n",
        "        self.linear = nn.Linear(num_features, 8)\n",
        "\n",
        "    def forward(self, outcome):\n",
        "        return self.linear(outcome)\n",
        "\n",
        "regression_model = appraisalRegressionModule(OUTCOME_VAR_DIM)"
      ],
      "execution_count": null,
      "outputs": []
    },
    {
      "cell_type": "code",
      "metadata": {
        "id": "1udrfvXDmKXz"
      },
      "source": [
        "def bayesianRegressionModel(data, y):\n",
        "    # Create unit normal priors over the parameters\n",
        "    weights_loc   = torch.zeros(size=(torch.Size((1, OUTCOME_VAR_DIM))))\n",
        "    weights_scale = torch.ones(size=(torch.Size((1, OUTCOME_VAR_DIM))))\n",
        "    weights_prior = Normal(weights_loc, weights_scale).independent(1)\n",
        "    \n",
        "    # location and scale prior for the bias\n",
        "    bias_loc   = torch.zeros(size=(torch.Size((1, ))))\n",
        "    bias_scale = torch.ones(size=(torch.Size((1, ))))\n",
        "    bias_prior = Normal(bias_loc, bias_scale).independent(1)\n",
        "    \n",
        "    priors = {'linear.weight': weights_prior, 'linear.bias': bias_prior}\n",
        "    # lift module parameters to random variables sampled from the priors\n",
        "    lifted_module = pyro.random_module(\"module\", regression_model, priors)\n",
        "    # sample a model (which also samples from weights_prior and bias_prior)\n",
        "    sampled_regression_model = lifted_module()\n",
        "    \n",
        "    with pyro.plate(\"map\"):\n",
        "        # outcome_data = data[:, :(OUTCOME_VAR_DIM)]\n",
        "        \n",
        "        # Here, for simplification, we are only taking one emotion variable (happy)\n",
        "        # instead of all 8 emotions\n",
        "        # emotion_data = data[:, (OUTCOME_VAR_DIM):]  \n",
        "        # print(\"Emotion Data : \", emotion_data)\n",
        "        # print(\"Emotion Data Shape :\", emotion_data.shape)\n",
        "        \n",
        "        # run the regressor forward conditioned on data\n",
        "        prediction = sampled_regression_model(data).squeeze(-1)\n",
        "        print(\"Prediction : \", prediction)\n",
        "        \n",
        "        # condition on the observed data\n",
        "        pyro.sample(\"obs\", Normal(prediction, 1), obs = y)\n",
        "        # pyro.condition(bayesianRegressionModel, data = emotion_data)\n",
        "        "
      ],
      "execution_count": null,
      "outputs": []
    },
    {
      "cell_type": "code",
      "metadata": {
        "id": "W1QK3wLGmLSu"
      },
      "source": [
        "def bayesianRegressionGuide(data, y):\n",
        "    # define our variational parameters\n",
        "    weights_loc   = torch.randn(1, OUTCOME_VAR_DIM)\n",
        "    # Note that the scale has to be non-negative. Thus, we use exp() to get a non-negative number.\n",
        "    # we also use a narrower scale (exp(-1) ~ 0.35 instead of exp(0) = 1)\n",
        "    weights_scale = torch.exp(-1.0 * torch.ones(1, OUTCOME_VAR_DIM) + 0.05 * torch.randn(1, OUTCOME_VAR_DIM))\n",
        "    bias_loc      = torch.randn(1)\n",
        "    bias_scale    = torch.exp(-1.0 * torch.ones(1) + 0.05 * torch.randn(1))\n",
        "\n",
        "    # using pyro.param() to register the variational parameters\n",
        "    weight_loc_param   = pyro.param(\"guide_loc_weight\", weights_loc)\n",
        "    weight_scale_param = pyro.param(\"guide_scale_weight\", weights_scale)\n",
        "    bias_loc_param     = pyro.param(\"guide_loc_bias\", bias_loc)\n",
        "    bias_scale_param   = pyro.param(\"guide_scale_bias\", bias_scale)\n",
        "    # guide distributions for w and b\n",
        "    weight_dist = Normal(weight_loc_param, weight_scale_param).independent(1)\n",
        "    bias_dist   = Normal(bias_loc_param, bias_scale_param).independent(1)\n",
        "    dists = {'linear.weight': weight_dist, 'linear.bias': bias_dist}\n",
        "    # lift the module and sample from that distribution\n",
        "    lifted_module = pyro.random_module(\"module\", regression_model, dists)\n",
        "    return lifted_module()"
      ],
      "execution_count": null,
      "outputs": []
    },
    {
      "cell_type": "code",
      "metadata": {
        "id": "eTF1HHm5mm_-"
      },
      "source": [
        "pyro.clear_param_store()\n",
        "\n",
        "num_iterations = 1000\n",
        "\n",
        "# setup the optimizer with some learning rate\n",
        "optimizer = Adam({\"lr\": 0.005})\n",
        "\n",
        "# setup the inference algorithm\n",
        "bayesianRegressionSVI = SVI(bayesianRegressionModel, bayesianRegressionGuide, optimizer, loss=Trace_ELBO())\n",
        "\n",
        "print(\"Outcome Data Shape : \", outcome_data.shape)\n",
        "print(\"Emotion Data Shape : \", emotion_data.shape)\n",
        "\n",
        "# do gradient steps\n",
        "losses = []\n",
        "for thisIteration in range(num_iterations):\n",
        "    # calculate the loss and take a gradient step\n",
        "    # thisLoss = bayesianRegressionSVI.step(outcome_emotion_dataset)\n",
        "    thisLoss = bayesianRegressionSVI.step(outcome_data, emotion_data)\n",
        "    losses.append(thisLoss)\n",
        "    if thisIteration % 100 == 0:\n",
        "        print(\"[iteration %04d] loss: %.4f\" % (thisIteration + 1, thisLoss / float(N_samples)))\n",
        "        \n",
        "\n",
        "plt.plot(losses)\n",
        "plt.title(\"ELBO\")\n",
        "plt.xlabel(\"step\")\n",
        "plt.ylabel(\"loss\")"
      ],
      "execution_count": null,
      "outputs": []
    },
    {
      "cell_type": "code",
      "metadata": {
        "id": "tPE1Om2OmqqG"
      },
      "source": [
        "#for name in pyro.get_param_store().get_all_param_names():\n",
        "#    print(name, pyro.param(name).data.numpy())\n",
        "\n",
        "guide_loc_weight = pyro.param(\"guide_loc_weight\")[0]\n",
        "guide_scale_weight = pyro.param(\"guide_scale_weight\")[0]\n",
        "\n",
        "print(\"b0 ~ Normal(%.4f, %.4f)\" % (pyro.param(\"guide_loc_bias\").item(), pyro.param(\"guide_scale_bias\").item()))\n",
        "for j in range(len(guide_loc_weight)):\n",
        "    print(\"b%1d\" % (j+1), \"~ Normal(%.4f, %.4f)\" % (guide_loc_weight[j], guide_scale_weight[j]))"
      ],
      "execution_count": null,
      "outputs": []
    },
    {
      "cell_type": "code",
      "metadata": {
        "id": "_XjZ7xyIgL7R"
      },
      "source": [
        "b_0 = pyro.sample(\"b_0\", Normal(pyro.param(\"guide_loc_bias\").item(), pyro.param(\"guide_scale_bias\").item()))\n",
        "b_1 = pyro.sample(\"b_1\", Normal(guide_loc_weight[0], guide_scale_weight[0]))\n",
        "b_2 = pyro.sample(\"b_2\", Normal(guide_loc_weight[1], guide_scale_weight[1]))\n",
        "b_3 = pyro.sample(\"b_3\", Normal(guide_loc_weight[2], guide_scale_weight[2]))\n",
        "b_4 = pyro.sample(\"b_4\", Normal(guide_loc_weight[3], guide_scale_weight[3]))\n",
        "b_5 = pyro.sample(\"b_5\", Normal(guide_loc_weight[4], guide_scale_weight[4]))\n",
        "b_6 = pyro.sample(\"b_6\", Normal(guide_loc_weight[5], guide_scale_weight[5]))\n",
        "b_7 = pyro.sample(\"b_7\", Normal(guide_loc_weight[6], guide_scale_weight[6]))\n",
        "b_8 = pyro.sample(\"b_8\", Normal(guide_loc_weight[7], guide_scale_weight[7]))\n",
        "b_9 = pyro.sample(\"b_9\", Normal(guide_loc_weight[8], guide_scale_weight[8]))\n",
        "# print(b_0)"
      ],
      "execution_count": null,
      "outputs": []
    },
    {
      "cell_type": "code",
      "metadata": {
        "id": "OCLuWZIrfWz2"
      },
      "source": [
        "new_data = [0.50, 0.75, 0.9, 0.30, 0.52, 0.18, 0.5, 0.30, 0.921]\n",
        "new_prediction = b_0 + b_1 * new_data[0] + b_2 * new_data[1] + b_3 * new_data[2] + b_4 * new_data[3] + b_5 * new_data[4] + b_6 * new_data[5] + b_7 * new_data[6] + b_8 * new_data[7] + b_9 * new_data[8] \n",
        "print(new_prediction)"
      ],
      "execution_count": null,
      "outputs": []
    },
    {
      "cell_type": "code",
      "metadata": {
        "id": "A_zJnRm1VUX_"
      },
      "source": [
        ""
      ],
      "execution_count": null,
      "outputs": []
    },
    {
      "cell_type": "code",
      "metadata": {
        "id": "eZdoxyX9VVZi"
      },
      "source": [
        "import pyro\n",
        "import pyro.distributions as dist\n",
        "from pyro.nn import PyroModule, PyroSample\n",
        "import torch.nn as nn\n",
        "from pyro.infer.autoguide import AutoDiagonalNormal\n",
        "from pyro.infer import SVI, Trace_ELBO, Predictive\n",
        "from tqdm.auto import trange, tqdm"
      ],
      "execution_count": null,
      "outputs": []
    },
    {
      "cell_type": "code",
      "metadata": {
        "id": "l5Er95B_VVqC"
      },
      "source": [
        "class Model(PyroModule):\n",
        "    def __init__(self, h1=20, h2=8):\n",
        "        super().__init__()\n",
        "        self.fc1 = PyroModule[nn.Linear](1, h1)\n",
        "        self.fc1.weight = PyroSample(dist.Normal(0., 1.).expand([h1, 1]).to_event(2))\n",
        "        self.fc1.bias = PyroSample(dist.Normal(0., 1.).expand([h1]).to_event(1))\n",
        "        self.fc2 = PyroModule[nn.Linear](h1, h2)\n",
        "        self.fc2.weight = PyroSample(dist.Normal(0., 1.).expand([h2, h1]).to_event(2))\n",
        "        self.fc2.bias = PyroSample(dist.Normal(0., 1.).expand([h2]).to_event(1))\n",
        "        self.fc3 = PyroModule[nn.Linear](h2, 1)\n",
        "        self.fc3.weight = PyroSample(dist.Normal(0., 1.).expand([1, h2]).to_event(2))\n",
        "        self.fc3.bias = PyroSample(dist.Normal(0., 1.).expand([1]).to_event(1))\n",
        "        self.relu = nn.ReLU()\n",
        "\n",
        "    def forward(self, x, y=None):\n",
        "        x = x.reshape(-1, 1)\n",
        "        x = self.relu(self.fc1(x))\n",
        "        x = self.relu(self.fc2(x))\n",
        "        mu = self.fc3(x).squeeze()\n",
        "        sigma = pyro.sample(\"sigma\", dist.Uniform(0., 1.))\n",
        "        with pyro.plate(\"data\", x.shape[0]):\n",
        "            obs = pyro.sample(\"obs\", dist.Normal(mu, sigma), obs=y)\n",
        "        return mu"
      ],
      "execution_count": null,
      "outputs": []
    },
    {
      "cell_type": "code",
      "metadata": {
        "id": "2ZScspP_VV4a"
      },
      "source": [
        "model = Model()\n",
        "guide = AutoDiagonalNormal(model)\n",
        "adam = pyro.optim.Adam({\"lr\": 1e-3})\n",
        "svi = SVI(model, guide, adam, loss=Trace_ELBO())\n",
        "\n",
        "pyro.clear_param_store()\n",
        "bar = trange(20000)\n",
        "# x_train = torch.from_numpy(x).float()\n",
        "# y_train = torch.from_numpy(y).float()\n",
        "for epoch in bar:\n",
        "    loss = svi.step(outcome_data, emotion_data)\n",
        "    bar.set_postfix(loss=f'{loss / outcome_data.shape[0]:.3f}')"
      ],
      "execution_count": null,
      "outputs": []
    },
    {
      "cell_type": "code",
      "metadata": {
        "id": "jh9l-dYFVWH9"
      },
      "source": [
        "import numpy as np\n",
        "import tensorflow as tf\n",
        "from tensorflow import keras\n",
        "from tensorflow.keras import layers\n",
        "import tensorflow_datasets as tfds\n",
        "import tensorflow_probability as tfp"
      ],
      "execution_count": null,
      "outputs": []
    },
    {
      "cell_type": "code",
      "metadata": {
        "id": "oRZA1665j9B7"
      },
      "source": [
        "def get_train_and_test_splits(dataset, train_size, batch_size=1):\n",
        "    # We prefetch with a buffer the same size as the dataset because th dataset\n",
        "    # is very small and fits into memory.\n",
        "    # dataset = (\n",
        "    #     tfds.load(name=\"wine_quality\", as_supervised=True, split=\"train\")\n",
        "    #     .map(lambda x, y: (x, tf.cast(y, tf.float32)))\n",
        "    #     .prefetch(buffer_size=dataset_size)\n",
        "    #     .cache()\n",
        "    # )\n",
        "    # We shuffle with a buffer the same size as the dataset.\n",
        "    # print(\"Dataset : \", dataset)\n",
        "\n",
        "    train_dataset = (\n",
        "        dataset.take(train_size).shuffle(buffer_size=train_size).batch(batch_size)\n",
        "    )\n",
        "    test_dataset = dataset.skip(train_size).batch(batch_size)\n",
        "\n",
        "    return train_dataset, test_dataset\n"
      ],
      "execution_count": null,
      "outputs": []
    },
    {
      "cell_type": "code",
      "metadata": {
        "id": "S1AIlif6VWVf"
      },
      "source": [
        "hidden_units = [8, 8]\n",
        "learning_rate = 0.001\n",
        "\n",
        "\n",
        "def run_experiment(model, loss, train_dataset, test_dataset):\n",
        "\n",
        "    model.compile(\n",
        "        optimizer=keras.optimizers.RMSprop(learning_rate=learning_rate),\n",
        "        loss=loss,\n",
        "        metrics=[keras.metrics.RootMeanSquaredError()],\n",
        "    )\n",
        "\n",
        "    print(\"Start training the model...\")\n",
        "    model.fit(train_dataset, epochs=num_epochs, validation_data=test_dataset)\n",
        "    print(\"Model training finished.\")\n",
        "    _, rmse = model.evaluate(train_dataset, verbose=0)\n",
        "    print(f\"Train RMSE: {round(rmse, 3)}\")\n",
        "\n",
        "    print(\"Evaluating model performance...\")\n",
        "    _, rmse = model.evaluate(test_dataset, verbose=0)\n",
        "    print(f\"Test RMSE: {round(rmse, 3)}\")"
      ],
      "execution_count": null,
      "outputs": []
    },
    {
      "cell_type": "code",
      "metadata": {
        "id": "ex9tS5-4k90X"
      },
      "source": [
        "# FEATURE_NAMES = [\n",
        "#     \"fixed acidity\",\n",
        "#     \"volatile acidity\",\n",
        "#     \"citric acid\",\n",
        "#     \"residual sugar\",\n",
        "#     \"chlorides\",\n",
        "#     \"free sulfur dioxide\",\n",
        "#     \"total sulfur dioxide\",\n",
        "#     \"density\",\n",
        "#     \"pH\",\n",
        "#     \"sulphates\",\n",
        "#     \"alcohol\",\n",
        "# ]\n",
        "\n",
        "\n",
        "def create_model_inputs():\n",
        "    inputs = {}\n",
        "    for feature_name in OUTCOME_VAR_NAMES:\n",
        "        inputs[feature_name] = layers.Input(\n",
        "            name=feature_name, shape=(1,), dtype=tf.float32\n",
        "        )\n",
        "    return inputs\n"
      ],
      "execution_count": null,
      "outputs": []
    },
    {
      "cell_type": "code",
      "metadata": {
        "id": "xVCgKWBjVWn-"
      },
      "source": [
        "def create_baseline_model():\n",
        "    inputs = create_model_inputs()\n",
        "    print(\"Inputs : \", inputs)\n",
        "    \n",
        "    input_values = [value for _, value in sorted(inputs.items())]\n",
        "    features = keras.layers.concatenate(input_values)\n",
        "    features = layers.BatchNormalization()(features)\n",
        "\n",
        "    # Create hidden layers with deterministic weights using the Dense layer.\n",
        "    for units in hidden_units:\n",
        "        features = layers.Dense(units, activation=\"sigmoid\")(features)\n",
        "    # The output is deterministic: a single point estimate.\n",
        "    outputs = layers.Dense(units=8)(features)\n",
        "\n",
        "    model = keras.Model(inputs=inputs, outputs=outputs)\n",
        "    return model\n"
      ],
      "execution_count": null,
      "outputs": []
    },
    {
      "cell_type": "code",
      "metadata": {
        "id": "uktWAdDxle63"
      },
      "source": [
        "dataset_size = 1541\n",
        "batch_size = 256\n",
        "train_size = int(dataset_size * 0.85)\n",
        "outcome_emotion_tfdataset = tf.data.Dataset.from_tensors(outcome_emotion_dataset)\n",
        "# print(outcome_emotion_tfdataset)\n",
        "train_dataset, test_dataset = get_train_and_test_splits(outcome_emotion_tfdataset, train_size, batch_size)"
      ],
      "execution_count": null,
      "outputs": []
    },
    {
      "cell_type": "code",
      "metadata": {
        "id": "9yKELO_bVW8f"
      },
      "source": [
        "num_epochs = 100\n",
        "mse_loss = keras.losses.MeanSquaredError()\n",
        "baseline_model = create_baseline_model()\n",
        "run_experiment(baseline_model, mse_loss, train_dataset, test_dataset)"
      ],
      "execution_count": null,
      "outputs": []
    },
    {
      "cell_type": "code",
      "metadata": {
        "id": "OE71fyLAVXKE"
      },
      "source": [
        ""
      ],
      "execution_count": null,
      "outputs": []
    },
    {
      "cell_type": "code",
      "metadata": {
        "id": "252sKs4omwdz"
      },
      "source": [
        "# Defining a character's personality based on the Big Five Personality Model\n",
        "Openness = 0.4\n",
        "Conscientiousness = 0.8\n",
        "Extraversion = 0.6\n",
        "Agreeableness = 0.3\n",
        "Neuroticism = 0.4\n",
        "\n",
        "# Calculating default mood in the PAD space based on the above peronality characteristics\n",
        "Pleasure  = (0.21 * Extraversion) + (0.59 * Agreeableness)        + (0.19 * Neuroticism)\n",
        "Arousal   = (0.15 * Openness)     + (0.30 * Agreeableness)        - (0.57 * Neuroticism)\n",
        "Dominance = (0.25 * Openness)     + (0.17 * Conscientiousness)    + (0.60 * Extraversion)     - (0.32 * Agreeableness) "
      ],
      "execution_count": null,
      "outputs": []
    }
  ]
}